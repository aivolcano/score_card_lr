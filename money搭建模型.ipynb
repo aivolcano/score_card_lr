{
 "cells": [
  {
   "cell_type": "code",
   "execution_count": 1,
   "metadata": {},
   "outputs": [
    {
     "name": "stderr",
     "output_type": "stream",
     "text": [
      "\n",
      "Bad key \"text.kerning_factor\" on line 4 in\n",
      "C:\\Users\\A can\\anaconda3\\lib\\site-packages\\matplotlib\\mpl-data\\stylelib\\_classic_test_patch.mplstyle.\n",
      "You probably need to get an updated matplotlibrc file from\n",
      "https://github.com/matplotlib/matplotlib/blob/v3.1.3/matplotlibrc.template\n",
      "or from the matplotlib source distribution\n"
     ]
    }
   ],
   "source": [
    "import numpy as np\n",
    "import pandas as pd\n",
    "pd.set_option('display.max_columns',None)\n",
    "import warnings\n",
    "warnings.simplefilter('ignore')\n",
    "from sklearn.model_selection import train_test_split, GridSearchCV\n",
    "from sklearn.linear_model import LogisticRegression \n",
    "from sklearn.metrics import accuracy_score, f1_score\n",
    "import matplotlib.pyplot as plt\n",
    "import seaborn as sns"
   ]
  },
  {
   "cell_type": "code",
   "execution_count": 2,
   "metadata": {},
   "outputs": [
    {
     "data": {
      "text/html": [
       "<div>\n",
       "<style scoped>\n",
       "    .dataframe tbody tr th:only-of-type {\n",
       "        vertical-align: middle;\n",
       "    }\n",
       "\n",
       "    .dataframe tbody tr th {\n",
       "        vertical-align: top;\n",
       "    }\n",
       "\n",
       "    .dataframe thead th {\n",
       "        text-align: right;\n",
       "    }\n",
       "</style>\n",
       "<table border=\"1\" class=\"dataframe\">\n",
       "  <thead>\n",
       "    <tr style=\"text-align: right;\">\n",
       "      <th></th>\n",
       "      <th>Unnamed: 0</th>\n",
       "      <th>Unnamed: 0.1</th>\n",
       "      <th>material_group_code</th>\n",
       "      <th>material_group_name</th>\n",
       "      <th>risk1</th>\n",
       "      <th>risk2</th>\n",
       "      <th>risk3</th>\n",
       "      <th>risk4</th>\n",
       "      <th>risk5</th>\n",
       "      <th>risk6</th>\n",
       "      <th>risk7</th>\n",
       "      <th>risk8</th>\n",
       "      <th>risk9</th>\n",
       "      <th>risk10</th>\n",
       "      <th>risk11</th>\n",
       "      <th>risk12</th>\n",
       "      <th>risk13</th>\n",
       "      <th>risk14</th>\n",
       "      <th>risk15</th>\n",
       "      <th>risk16</th>\n",
       "      <th>risk17</th>\n",
       "      <th>risk18</th>\n",
       "      <th>risk19</th>\n",
       "      <th>risk20</th>\n",
       "      <th>risk21</th>\n",
       "      <th>risk22</th>\n",
       "      <th>risk23</th>\n",
       "      <th>risk24</th>\n",
       "      <th>money1</th>\n",
       "      <th>money2</th>\n",
       "      <th>money3</th>\n",
       "      <th>money4</th>\n",
       "      <th>money5</th>\n",
       "      <th>money6</th>\n",
       "      <th>money7</th>\n",
       "      <th>money8</th>\n",
       "      <th>money9</th>\n",
       "      <th>risk_label</th>\n",
       "      <th>money_label</th>\n",
       "      <th>risk_score</th>\n",
       "      <th>money_score</th>\n",
       "    </tr>\n",
       "  </thead>\n",
       "  <tbody>\n",
       "    <tr>\n",
       "      <th>0</th>\n",
       "      <td>0</td>\n",
       "      <td>0</td>\n",
       "      <td>1</td>\n",
       "      <td>材料组1</td>\n",
       "      <td>417</td>\n",
       "      <td>699</td>\n",
       "      <td>126</td>\n",
       "      <td>225</td>\n",
       "      <td>201</td>\n",
       "      <td>277</td>\n",
       "      <td>747</td>\n",
       "      <td>108</td>\n",
       "      <td>655</td>\n",
       "      <td>50</td>\n",
       "      <td>789</td>\n",
       "      <td>518</td>\n",
       "      <td>794</td>\n",
       "      <td>182</td>\n",
       "      <td>738</td>\n",
       "      <td>461</td>\n",
       "      <td>976</td>\n",
       "      <td>938</td>\n",
       "      <td>165</td>\n",
       "      <td>688</td>\n",
       "      <td>721</td>\n",
       "      <td>181</td>\n",
       "      <td>374</td>\n",
       "      <td>150</td>\n",
       "      <td>21</td>\n",
       "      <td>86</td>\n",
       "      <td>466</td>\n",
       "      <td>287</td>\n",
       "      <td>536</td>\n",
       "      <td>206</td>\n",
       "      <td>191</td>\n",
       "      <td>747</td>\n",
       "      <td>524</td>\n",
       "      <td>0</td>\n",
       "      <td>0</td>\n",
       "      <td>11180</td>\n",
       "      <td>3064</td>\n",
       "    </tr>\n",
       "    <tr>\n",
       "      <th>1</th>\n",
       "      <td>1</td>\n",
       "      <td>1</td>\n",
       "      <td>2</td>\n",
       "      <td>材料组2</td>\n",
       "      <td>685</td>\n",
       "      <td>990</td>\n",
       "      <td>489</td>\n",
       "      <td>765</td>\n",
       "      <td>665</td>\n",
       "      <td>857</td>\n",
       "      <td>713</td>\n",
       "      <td>869</td>\n",
       "      <td>425</td>\n",
       "      <td>474</td>\n",
       "      <td>645</td>\n",
       "      <td>656</td>\n",
       "      <td>697</td>\n",
       "      <td>100</td>\n",
       "      <td>33</td>\n",
       "      <td>291</td>\n",
       "      <td>28</td>\n",
       "      <td>768</td>\n",
       "      <td>78</td>\n",
       "      <td>24</td>\n",
       "      <td>608</td>\n",
       "      <td>936</td>\n",
       "      <td>62</td>\n",
       "      <td>745</td>\n",
       "      <td>836</td>\n",
       "      <td>307</td>\n",
       "      <td>207</td>\n",
       "      <td>302</td>\n",
       "      <td>386</td>\n",
       "      <td>709</td>\n",
       "      <td>745</td>\n",
       "      <td>87</td>\n",
       "      <td>105</td>\n",
       "      <td>1</td>\n",
       "      <td>0</td>\n",
       "      <td>12603</td>\n",
       "      <td>3684</td>\n",
       "    </tr>\n",
       "    <tr>\n",
       "      <th>2</th>\n",
       "      <td>2</td>\n",
       "      <td>2</td>\n",
       "      <td>3</td>\n",
       "      <td>材料组3</td>\n",
       "      <td>983</td>\n",
       "      <td>750</td>\n",
       "      <td>328</td>\n",
       "      <td>773</td>\n",
       "      <td>855</td>\n",
       "      <td>778</td>\n",
       "      <td>327</td>\n",
       "      <td>351</td>\n",
       "      <td>659</td>\n",
       "      <td>98</td>\n",
       "      <td>249</td>\n",
       "      <td>844</td>\n",
       "      <td>549</td>\n",
       "      <td>676</td>\n",
       "      <td>847</td>\n",
       "      <td>966</td>\n",
       "      <td>404</td>\n",
       "      <td>855</td>\n",
       "      <td>715</td>\n",
       "      <td>113</td>\n",
       "      <td>332</td>\n",
       "      <td>452</td>\n",
       "      <td>990</td>\n",
       "      <td>737</td>\n",
       "      <td>438</td>\n",
       "      <td>654</td>\n",
       "      <td>612</td>\n",
       "      <td>250</td>\n",
       "      <td>712</td>\n",
       "      <td>344</td>\n",
       "      <td>706</td>\n",
       "      <td>20</td>\n",
       "      <td>68</td>\n",
       "      <td>1</td>\n",
       "      <td>0</td>\n",
       "      <td>14631</td>\n",
       "      <td>3804</td>\n",
       "    </tr>\n",
       "    <tr>\n",
       "      <th>3</th>\n",
       "      <td>3</td>\n",
       "      <td>3</td>\n",
       "      <td>4</td>\n",
       "      <td>材料组4</td>\n",
       "      <td>638</td>\n",
       "      <td>428</td>\n",
       "      <td>5</td>\n",
       "      <td>480</td>\n",
       "      <td>436</td>\n",
       "      <td>227</td>\n",
       "      <td>950</td>\n",
       "      <td>63</td>\n",
       "      <td>749</td>\n",
       "      <td>696</td>\n",
       "      <td>464</td>\n",
       "      <td>485</td>\n",
       "      <td>409</td>\n",
       "      <td>669</td>\n",
       "      <td>811</td>\n",
       "      <td>701</td>\n",
       "      <td>275</td>\n",
       "      <td>711</td>\n",
       "      <td>666</td>\n",
       "      <td>705</td>\n",
       "      <td>821</td>\n",
       "      <td>391</td>\n",
       "      <td>417</td>\n",
       "      <td>90</td>\n",
       "      <td>700</td>\n",
       "      <td>767</td>\n",
       "      <td>430</td>\n",
       "      <td>803</td>\n",
       "      <td>794</td>\n",
       "      <td>235</td>\n",
       "      <td>374</td>\n",
       "      <td>540</td>\n",
       "      <td>551</td>\n",
       "      <td>1</td>\n",
       "      <td>0</td>\n",
       "      <td>12287</td>\n",
       "      <td>5194</td>\n",
       "    </tr>\n",
       "    <tr>\n",
       "      <th>4</th>\n",
       "      <td>4</td>\n",
       "      <td>4</td>\n",
       "      <td>5</td>\n",
       "      <td>材料组5</td>\n",
       "      <td>74</td>\n",
       "      <td>364</td>\n",
       "      <td>749</td>\n",
       "      <td>692</td>\n",
       "      <td>208</td>\n",
       "      <td>554</td>\n",
       "      <td>644</td>\n",
       "      <td>933</td>\n",
       "      <td>219</td>\n",
       "      <td>901</td>\n",
       "      <td>992</td>\n",
       "      <td>887</td>\n",
       "      <td>489</td>\n",
       "      <td>177</td>\n",
       "      <td>725</td>\n",
       "      <td>745</td>\n",
       "      <td>95</td>\n",
       "      <td>845</td>\n",
       "      <td>254</td>\n",
       "      <td>941</td>\n",
       "      <td>35</td>\n",
       "      <td>61</td>\n",
       "      <td>272</td>\n",
       "      <td>856</td>\n",
       "      <td>18</td>\n",
       "      <td>625</td>\n",
       "      <td>386</td>\n",
       "      <td>407</td>\n",
       "      <td>505</td>\n",
       "      <td>759</td>\n",
       "      <td>72</td>\n",
       "      <td>192</td>\n",
       "      <td>579</td>\n",
       "      <td>1</td>\n",
       "      <td>0</td>\n",
       "      <td>12712</td>\n",
       "      <td>3543</td>\n",
       "    </tr>\n",
       "    <tr>\n",
       "      <th>...</th>\n",
       "      <td>...</td>\n",
       "      <td>...</td>\n",
       "      <td>...</td>\n",
       "      <td>...</td>\n",
       "      <td>...</td>\n",
       "      <td>...</td>\n",
       "      <td>...</td>\n",
       "      <td>...</td>\n",
       "      <td>...</td>\n",
       "      <td>...</td>\n",
       "      <td>...</td>\n",
       "      <td>...</td>\n",
       "      <td>...</td>\n",
       "      <td>...</td>\n",
       "      <td>...</td>\n",
       "      <td>...</td>\n",
       "      <td>...</td>\n",
       "      <td>...</td>\n",
       "      <td>...</td>\n",
       "      <td>...</td>\n",
       "      <td>...</td>\n",
       "      <td>...</td>\n",
       "      <td>...</td>\n",
       "      <td>...</td>\n",
       "      <td>...</td>\n",
       "      <td>...</td>\n",
       "      <td>...</td>\n",
       "      <td>...</td>\n",
       "      <td>...</td>\n",
       "      <td>...</td>\n",
       "      <td>...</td>\n",
       "      <td>...</td>\n",
       "      <td>...</td>\n",
       "      <td>...</td>\n",
       "      <td>...</td>\n",
       "      <td>...</td>\n",
       "      <td>...</td>\n",
       "      <td>...</td>\n",
       "      <td>...</td>\n",
       "      <td>...</td>\n",
       "      <td>...</td>\n",
       "    </tr>\n",
       "    <tr>\n",
       "      <th>395</th>\n",
       "      <td>395</td>\n",
       "      <td>395</td>\n",
       "      <td>396</td>\n",
       "      <td>材料组396</td>\n",
       "      <td>318</td>\n",
       "      <td>132</td>\n",
       "      <td>770</td>\n",
       "      <td>440</td>\n",
       "      <td>586</td>\n",
       "      <td>717</td>\n",
       "      <td>223</td>\n",
       "      <td>802</td>\n",
       "      <td>7</td>\n",
       "      <td>440</td>\n",
       "      <td>762</td>\n",
       "      <td>646</td>\n",
       "      <td>935</td>\n",
       "      <td>614</td>\n",
       "      <td>800</td>\n",
       "      <td>736</td>\n",
       "      <td>942</td>\n",
       "      <td>510</td>\n",
       "      <td>772</td>\n",
       "      <td>506</td>\n",
       "      <td>970</td>\n",
       "      <td>110</td>\n",
       "      <td>495</td>\n",
       "      <td>487</td>\n",
       "      <td>626</td>\n",
       "      <td>70</td>\n",
       "      <td>859</td>\n",
       "      <td>302</td>\n",
       "      <td>139</td>\n",
       "      <td>502</td>\n",
       "      <td>467</td>\n",
       "      <td>425</td>\n",
       "      <td>465</td>\n",
       "      <td>1</td>\n",
       "      <td>0</td>\n",
       "      <td>13720</td>\n",
       "      <td>3855</td>\n",
       "    </tr>\n",
       "    <tr>\n",
       "      <th>396</th>\n",
       "      <td>396</td>\n",
       "      <td>396</td>\n",
       "      <td>397</td>\n",
       "      <td>材料组397</td>\n",
       "      <td>412</td>\n",
       "      <td>876</td>\n",
       "      <td>773</td>\n",
       "      <td>289</td>\n",
       "      <td>688</td>\n",
       "      <td>651</td>\n",
       "      <td>454</td>\n",
       "      <td>64</td>\n",
       "      <td>311</td>\n",
       "      <td>105</td>\n",
       "      <td>17</td>\n",
       "      <td>132</td>\n",
       "      <td>587</td>\n",
       "      <td>958</td>\n",
       "      <td>876</td>\n",
       "      <td>19</td>\n",
       "      <td>992</td>\n",
       "      <td>42</td>\n",
       "      <td>44</td>\n",
       "      <td>754</td>\n",
       "      <td>198</td>\n",
       "      <td>207</td>\n",
       "      <td>74</td>\n",
       "      <td>61</td>\n",
       "      <td>226</td>\n",
       "      <td>139</td>\n",
       "      <td>451</td>\n",
       "      <td>564</td>\n",
       "      <td>229</td>\n",
       "      <td>407</td>\n",
       "      <td>117</td>\n",
       "      <td>698</td>\n",
       "      <td>853</td>\n",
       "      <td>0</td>\n",
       "      <td>0</td>\n",
       "      <td>9584</td>\n",
       "      <td>3684</td>\n",
       "    </tr>\n",
       "    <tr>\n",
       "      <th>397</th>\n",
       "      <td>397</td>\n",
       "      <td>397</td>\n",
       "      <td>398</td>\n",
       "      <td>材料组398</td>\n",
       "      <td>312</td>\n",
       "      <td>916</td>\n",
       "      <td>442</td>\n",
       "      <td>408</td>\n",
       "      <td>696</td>\n",
       "      <td>558</td>\n",
       "      <td>323</td>\n",
       "      <td>283</td>\n",
       "      <td>619</td>\n",
       "      <td>418</td>\n",
       "      <td>603</td>\n",
       "      <td>445</td>\n",
       "      <td>142</td>\n",
       "      <td>907</td>\n",
       "      <td>701</td>\n",
       "      <td>362</td>\n",
       "      <td>859</td>\n",
       "      <td>461</td>\n",
       "      <td>44</td>\n",
       "      <td>176</td>\n",
       "      <td>945</td>\n",
       "      <td>553</td>\n",
       "      <td>788</td>\n",
       "      <td>945</td>\n",
       "      <td>288</td>\n",
       "      <td>907</td>\n",
       "      <td>457</td>\n",
       "      <td>147</td>\n",
       "      <td>253</td>\n",
       "      <td>185</td>\n",
       "      <td>471</td>\n",
       "      <td>892</td>\n",
       "      <td>757</td>\n",
       "      <td>1</td>\n",
       "      <td>0</td>\n",
       "      <td>12906</td>\n",
       "      <td>4357</td>\n",
       "    </tr>\n",
       "    <tr>\n",
       "      <th>398</th>\n",
       "      <td>398</td>\n",
       "      <td>398</td>\n",
       "      <td>399</td>\n",
       "      <td>材料组399</td>\n",
       "      <td>288</td>\n",
       "      <td>34</td>\n",
       "      <td>776</td>\n",
       "      <td>870</td>\n",
       "      <td>657</td>\n",
       "      <td>708</td>\n",
       "      <td>316</td>\n",
       "      <td>705</td>\n",
       "      <td>951</td>\n",
       "      <td>945</td>\n",
       "      <td>851</td>\n",
       "      <td>612</td>\n",
       "      <td>687</td>\n",
       "      <td>865</td>\n",
       "      <td>761</td>\n",
       "      <td>142</td>\n",
       "      <td>352</td>\n",
       "      <td>527</td>\n",
       "      <td>524</td>\n",
       "      <td>662</td>\n",
       "      <td>904</td>\n",
       "      <td>736</td>\n",
       "      <td>576</td>\n",
       "      <td>818</td>\n",
       "      <td>724</td>\n",
       "      <td>686</td>\n",
       "      <td>847</td>\n",
       "      <td>107</td>\n",
       "      <td>824</td>\n",
       "      <td>988</td>\n",
       "      <td>141</td>\n",
       "      <td>779</td>\n",
       "      <td>148</td>\n",
       "      <td>1</td>\n",
       "      <td>0</td>\n",
       "      <td>15267</td>\n",
       "      <td>5244</td>\n",
       "    </tr>\n",
       "    <tr>\n",
       "      <th>399</th>\n",
       "      <td>399</td>\n",
       "      <td>399</td>\n",
       "      <td>400</td>\n",
       "      <td>材料组400</td>\n",
       "      <td>623</td>\n",
       "      <td>153</td>\n",
       "      <td>833</td>\n",
       "      <td>941</td>\n",
       "      <td>444</td>\n",
       "      <td>415</td>\n",
       "      <td>544</td>\n",
       "      <td>865</td>\n",
       "      <td>135</td>\n",
       "      <td>544</td>\n",
       "      <td>895</td>\n",
       "      <td>350</td>\n",
       "      <td>454</td>\n",
       "      <td>511</td>\n",
       "      <td>710</td>\n",
       "      <td>33</td>\n",
       "      <td>321</td>\n",
       "      <td>129</td>\n",
       "      <td>215</td>\n",
       "      <td>495</td>\n",
       "      <td>408</td>\n",
       "      <td>206</td>\n",
       "      <td>113</td>\n",
       "      <td>270</td>\n",
       "      <td>806</td>\n",
       "      <td>455</td>\n",
       "      <td>908</td>\n",
       "      <td>138</td>\n",
       "      <td>145</td>\n",
       "      <td>539</td>\n",
       "      <td>564</td>\n",
       "      <td>914</td>\n",
       "      <td>48</td>\n",
       "      <td>0</td>\n",
       "      <td>0</td>\n",
       "      <td>10607</td>\n",
       "      <td>4517</td>\n",
       "    </tr>\n",
       "  </tbody>\n",
       "</table>\n",
       "<p>400 rows × 41 columns</p>\n",
       "</div>"
      ],
      "text/plain": [
       "     Unnamed: 0  Unnamed: 0.1  material_group_code material_group_name  risk1  \\\n",
       "0             0             0                    1                材料组1    417   \n",
       "1             1             1                    2                材料组2    685   \n",
       "2             2             2                    3                材料组3    983   \n",
       "3             3             3                    4                材料组4    638   \n",
       "4             4             4                    5                材料组5     74   \n",
       "..          ...           ...                  ...                 ...    ...   \n",
       "395         395           395                  396              材料组396    318   \n",
       "396         396           396                  397              材料组397    412   \n",
       "397         397           397                  398              材料组398    312   \n",
       "398         398           398                  399              材料组399    288   \n",
       "399         399           399                  400              材料组400    623   \n",
       "\n",
       "     risk2  risk3  risk4  risk5  risk6  risk7  risk8  risk9  risk10  risk11  \\\n",
       "0      699    126    225    201    277    747    108    655      50     789   \n",
       "1      990    489    765    665    857    713    869    425     474     645   \n",
       "2      750    328    773    855    778    327    351    659      98     249   \n",
       "3      428      5    480    436    227    950     63    749     696     464   \n",
       "4      364    749    692    208    554    644    933    219     901     992   \n",
       "..     ...    ...    ...    ...    ...    ...    ...    ...     ...     ...   \n",
       "395    132    770    440    586    717    223    802      7     440     762   \n",
       "396    876    773    289    688    651    454     64    311     105      17   \n",
       "397    916    442    408    696    558    323    283    619     418     603   \n",
       "398     34    776    870    657    708    316    705    951     945     851   \n",
       "399    153    833    941    444    415    544    865    135     544     895   \n",
       "\n",
       "     risk12  risk13  risk14  risk15  risk16  risk17  risk18  risk19  risk20  \\\n",
       "0       518     794     182     738     461     976     938     165     688   \n",
       "1       656     697     100      33     291      28     768      78      24   \n",
       "2       844     549     676     847     966     404     855     715     113   \n",
       "3       485     409     669     811     701     275     711     666     705   \n",
       "4       887     489     177     725     745      95     845     254     941   \n",
       "..      ...     ...     ...     ...     ...     ...     ...     ...     ...   \n",
       "395     646     935     614     800     736     942     510     772     506   \n",
       "396     132     587     958     876      19     992      42      44     754   \n",
       "397     445     142     907     701     362     859     461      44     176   \n",
       "398     612     687     865     761     142     352     527     524     662   \n",
       "399     350     454     511     710      33     321     129     215     495   \n",
       "\n",
       "     risk21  risk22  risk23  risk24  money1  money2  money3  money4  money5  \\\n",
       "0       721     181     374     150      21      86     466     287     536   \n",
       "1       608     936      62     745     836     307     207     302     386   \n",
       "2       332     452     990     737     438     654     612     250     712   \n",
       "3       821     391     417      90     700     767     430     803     794   \n",
       "4        35      61     272     856      18     625     386     407     505   \n",
       "..      ...     ...     ...     ...     ...     ...     ...     ...     ...   \n",
       "395     970     110     495     487     626      70     859     302     139   \n",
       "396     198     207      74      61     226     139     451     564     229   \n",
       "397     945     553     788     945     288     907     457     147     253   \n",
       "398     904     736     576     818     724     686     847     107     824   \n",
       "399     408     206     113     270     806     455     908     138     145   \n",
       "\n",
       "     money6  money7  money8  money9  risk_label  money_label  risk_score  \\\n",
       "0       206     191     747     524           0            0       11180   \n",
       "1       709     745      87     105           1            0       12603   \n",
       "2       344     706      20      68           1            0       14631   \n",
       "3       235     374     540     551           1            0       12287   \n",
       "4       759      72     192     579           1            0       12712   \n",
       "..      ...     ...     ...     ...         ...          ...         ...   \n",
       "395     502     467     425     465           1            0       13720   \n",
       "396     407     117     698     853           0            0        9584   \n",
       "397     185     471     892     757           1            0       12906   \n",
       "398     988     141     779     148           1            0       15267   \n",
       "399     539     564     914      48           0            0       10607   \n",
       "\n",
       "     money_score  \n",
       "0           3064  \n",
       "1           3684  \n",
       "2           3804  \n",
       "3           5194  \n",
       "4           3543  \n",
       "..           ...  \n",
       "395         3855  \n",
       "396         3684  \n",
       "397         4357  \n",
       "398         5244  \n",
       "399         4517  \n",
       "\n",
       "[400 rows x 41 columns]"
      ]
     },
     "execution_count": 2,
     "metadata": {},
     "output_type": "execute_result"
    }
   ],
   "source": [
    "df = pd.read_excel('./materical_group2.xlsx')\n",
    "df"
   ]
  },
  {
   "cell_type": "code",
   "execution_count": 3,
   "metadata": {},
   "outputs": [],
   "source": [
    "data_material_group_name = df['material_group_name']"
   ]
  },
  {
   "cell_type": "code",
   "execution_count": 4,
   "metadata": {},
   "outputs": [],
   "source": [
    "df.drop(['risk_score','money_score'],axis=1, inplace=True)"
   ]
  },
  {
   "cell_type": "code",
   "execution_count": 5,
   "metadata": {},
   "outputs": [],
   "source": [
    "# 在风险性和重要性两个维度建立两个逻辑回归模型"
   ]
  },
  {
   "cell_type": "code",
   "execution_count": 6,
   "metadata": {},
   "outputs": [],
   "source": [
    "# risk_x risk_y  money_x money_y\n",
    "# 切分数据集 train_test_split(random_state=33) 控制切分集不随机\n",
    "# 引入评分卡woe\n",
    "# 对字段进行分类\n",
    "# 构建评分卡规则 variable binning score\n",
    "# 根据 risk_score和money_score两个维度画波士顿矩阵BCG"
   ]
  },
  {
   "cell_type": "markdown",
   "metadata": {},
   "source": [
    "### 构建两个逻辑回归的x和y：risk_x risk_y  money_x money_y"
   ]
  },
  {
   "cell_type": "code",
   "execution_count": 7,
   "metadata": {},
   "outputs": [],
   "source": [
    "# risk_cols = [x for x in df.columns if x[:4]=='risk']\n",
    "# risk_cols = risk_cols.remove('risk_label')\n",
    "# x_risk_cols = risk_cols.remove('risk_score')\n",
    "\n",
    "risk_cols = ['risk' + str(x) for x in range(1,25)]\n",
    "x_risk = df[risk_cols]\n",
    "y_risk = df['risk_label']\n",
    "\n",
    "\n",
    "money_cols = ['money' + str(x) for x in range(1,10)]\n",
    "x_money = df[money_cols]\n",
    "y_money = df['money_label']"
   ]
  },
  {
   "cell_type": "code",
   "execution_count": 8,
   "metadata": {},
   "outputs": [],
   "source": [
    "# 切分数据集 train_test_split(random_state=33) 控制切分集不随机"
   ]
  },
  {
   "cell_type": "code",
   "execution_count": 9,
   "metadata": {},
   "outputs": [],
   "source": [
    "from sklearn.utils import shuffle\n",
    "X_money_shuffle, y_money_shuffle = shuffle(x_money, y_money)"
   ]
  },
  {
   "cell_type": "code",
   "execution_count": 10,
   "metadata": {},
   "outputs": [],
   "source": [
    "# from sklearn.model_selection import train_test_split\n",
    "x_risk_train, x_risk_test, y_risk_train, y_risk_test = train_test_split(x_risk, df['risk_label'],test_size=0.1, random_state=33)"
   ]
  },
  {
   "cell_type": "code",
   "execution_count": 11,
   "metadata": {},
   "outputs": [],
   "source": [
    "x_money_train, x_money_test, y_money_train, y_money_test = train_test_split(x_money, df['money_label'],test_size=0.1, random_state=33)\n",
    "# x_money_test.shape (10,9)   y_money_test.shape (10,)"
   ]
  },
  {
   "cell_type": "code",
   "execution_count": 12,
   "metadata": {},
   "outputs": [
    {
     "data": {
      "text/plain": [
       "79     0\n",
       "331    0\n",
       "223    0\n",
       "258    0\n",
       "306    0\n",
       "      ..\n",
       "146    0\n",
       "66     0\n",
       "216    0\n",
       "391    0\n",
       "20     0\n",
       "Name: money_label, Length: 360, dtype: int64"
      ]
     },
     "execution_count": 12,
     "metadata": {},
     "output_type": "execute_result"
    }
   ],
   "source": [
    "y_money_train"
   ]
  },
  {
   "cell_type": "markdown",
   "metadata": {},
   "source": [
    "### 逻辑回归：对风险性（risk）进行建模"
   ]
  },
  {
   "cell_type": "code",
   "execution_count": 13,
   "metadata": {},
   "outputs": [
    {
     "name": "stdout",
     "output_type": "stream",
     "text": [
      "0.925\n"
     ]
    }
   ],
   "source": [
    "from sklearn.linear_model import LogisticRegression\n",
    "from sklearn.metrics import f1_score, accuracy_score\n",
    "\n",
    "C=0.2\n",
    "max_iter = 150\n",
    "\n",
    "model_risk = LogisticRegression(C=C, max_iter=max_iter, penalty='l2', tol=0.0001, class_weight='balanced') # penalty='l2' l2正则 tol=0.0001\n",
    "model_risk.fit(x_risk_train, y_risk_train)\n",
    "y_risk_pred = model_risk.predict(x_risk_test)\n",
    "accuracy = accuracy_score(y_risk_test, y_risk_pred)\n",
    "f1 = f1_score(y_risk_test, y_risk_pred)\n",
    "print(accuracy)"
   ]
  },
  {
   "cell_type": "code",
   "execution_count": 14,
   "metadata": {},
   "outputs": [
    {
     "data": {
      "text/plain": [
       "0.9555555555555555"
      ]
     },
     "execution_count": 14,
     "metadata": {},
     "output_type": "execute_result"
    }
   ],
   "source": [
    "# 使用交叉验证的方式对模型进行评估\n",
    "from sklearn.model_selection import cross_val_score\n",
    "cross_val_score(model_risk,x_risk_train,y_risk_train,cv=5,scoring='accuracy').mean()"
   ]
  },
  {
   "cell_type": "code",
   "execution_count": 15,
   "metadata": {},
   "outputs": [
    {
     "data": {
      "text/plain": [
       "{0, 1}"
      ]
     },
     "execution_count": 15,
     "metadata": {},
     "output_type": "execute_result"
    }
   ],
   "source": [
    "set(y_money_train)"
   ]
  },
  {
   "cell_type": "code",
   "execution_count": 16,
   "metadata": {},
   "outputs": [
    {
     "data": {
      "text/plain": [
       "\"\\n# 贝叶斯优化进行参数调整\\ndef lr_risk_cv(C, max_iter):\\n    results = cross_val_score(model_risk, x_risk,y_risk,cv=5, scoring='accuracy').mean()\\n    return results\\n\\nfrom bayes_opt import BayesianOptimization\\nlr_risk_op = BayesianOptimization(\\n    f = lr_risk_cv,\\n    pbounds = {'C':(0.01, 20),\\n              'max_iter':(30,600)})\\nlr_risk_op.maximize(init_points=2, n_iter=3, acq='ei')\\nprint(lr_risk_op)\\n\\n# ValueError: array must not contain infs or NaNs\\n\""
      ]
     },
     "execution_count": 16,
     "metadata": {},
     "output_type": "execute_result"
    }
   ],
   "source": [
    "'''由于贝叶斯调参包的不稳定性，使用GridSearchCV调参'''\n",
    "'''\n",
    "# 贝叶斯优化进行参数调整\n",
    "def lr_risk_cv(C, max_iter):\n",
    "    results = cross_val_score(model_risk, x_risk,y_risk,cv=5, scoring='accuracy').mean()\n",
    "    return results\n",
    "\n",
    "from bayes_opt import BayesianOptimization\n",
    "lr_risk_op = BayesianOptimization(\n",
    "    f = lr_risk_cv,\n",
    "    pbounds = {'C':(0.01, 20),\n",
    "              'max_iter':(30,600)})\n",
    "lr_risk_op.maximize(init_points=2, n_iter=3, acq='ei')\n",
    "print(lr_risk_op)\n",
    "\n",
    "# ValueError: array must not contain infs or NaNs\n",
    "'''"
   ]
  },
  {
   "cell_type": "code",
   "execution_count": 17,
   "metadata": {},
   "outputs": [
    {
     "name": "stdout",
     "output_type": "stream",
     "text": [
      "Fitting 5 folds for each of 42 candidates, totalling 210 fits\n"
     ]
    },
    {
     "name": "stderr",
     "output_type": "stream",
     "text": [
      "[Parallel(n_jobs=-1)]: Using backend LokyBackend with 4 concurrent workers.\n",
      "[Parallel(n_jobs=-1)]: Done  10 tasks      | elapsed:    7.0s\n",
      "[Parallel(n_jobs=-1)]: Done  88 tasks      | elapsed:    8.6s\n",
      "[Parallel(n_jobs=-1)]: Done 210 out of 210 | elapsed:   11.2s finished\n"
     ]
    },
    {
     "data": {
      "text/plain": [
       "(LogisticRegression(C=0.1, class_weight='balanced'), 0.9555555555555555)"
      ]
     },
     "execution_count": 17,
     "metadata": {},
     "output_type": "execute_result"
    }
   ],
   "source": [
    "from sklearn.model_selection import GridSearchCV\n",
    "param_dist = {'C':[0.1, 0.15, 0.2,0.22, 0.24, 0.25, 0.38],\n",
    "              'max_iter':[30, 50, 100, 120, 150, 200],\n",
    "    \n",
    "}\n",
    "grid_search_risk = GridSearchCV(model_risk, n_jobs=-1, \n",
    "                                param_grid=param_dist,\n",
    "                                cv=5, \n",
    "                                scoring='accuracy',\n",
    "                                verbose=5\n",
    "            )\n",
    "grid_search_risk.fit(x_risk_train, y_risk_train)\n",
    "grid_search_risk.best_estimator_, grid_search_risk.best_score_\n",
    "# model_risk :LogisticRegression(C=0.38, class_weight='balanced', max_iter=150), 0.8500000000000002"
   ]
  },
  {
   "cell_type": "code",
   "execution_count": 18,
   "metadata": {},
   "outputs": [
    {
     "data": {
      "text/plain": [
       "(360,)"
      ]
     },
     "execution_count": 18,
     "metadata": {},
     "output_type": "execute_result"
    }
   ],
   "source": [
    "y_money_train.shape"
   ]
  },
  {
   "cell_type": "markdown",
   "metadata": {},
   "source": [
    "### 逻辑回归：对金额数（money）进行建模"
   ]
  },
  {
   "cell_type": "code",
   "execution_count": 19,
   "metadata": {},
   "outputs": [
    {
     "name": "stdout",
     "output_type": "stream",
     "text": [
      "0.825\n"
     ]
    }
   ],
   "source": [
    "C = 0.085\n",
    "max_iter = 60\n",
    "\n",
    "model_money = LogisticRegression(C=C, max_iter=max_iter, penalty='l2', tol=0.0001, class_weight='balanced')\n",
    "model_money.fit(x_money_train, y_money_train)\n",
    "y_money_pred = model_money.predict(x_money_test)\n",
    "accuracy = accuracy_score(y_money_pred, y_money_test)\n",
    "print(accuracy)"
   ]
  },
  {
   "cell_type": "markdown",
   "metadata": {},
   "source": [
    "### 网格搜索调参"
   ]
  },
  {
   "cell_type": "code",
   "execution_count": 20,
   "metadata": {},
   "outputs": [
    {
     "name": "stdout",
     "output_type": "stream",
     "text": [
      "Fitting 3 folds for each of 28 candidates, totalling 84 fits\n"
     ]
    },
    {
     "name": "stderr",
     "output_type": "stream",
     "text": [
      "[Parallel(n_jobs=-1)]: Using backend LokyBackend with 4 concurrent workers.\n",
      "[Parallel(n_jobs=-1)]: Done  12 tasks      | elapsed:    0.2s\n",
      "[Parallel(n_jobs=-1)]: Done  84 out of  84 | elapsed:    1.6s finished\n"
     ]
    },
    {
     "data": {
      "text/plain": [
       "(LogisticRegression(C=0.085, class_weight='balanced', max_iter=60),\n",
       " 0.9527777777777778)"
      ]
     },
     "execution_count": 20,
     "metadata": {},
     "output_type": "execute_result"
    }
   ],
   "source": [
    "param_dist = {'C':[0.08, 0.085, 0.09, 0.1],\n",
    "             'max_iter':[30, 40, 50, 60, 70,80, 100]}\n",
    "grid_search_money = GridSearchCV(model_money, n_jobs=-1,param_grid=param_dist, cv=3,scoring='accuracy',verbose=5)\n",
    "grid_search_money.fit(x_money_train, y_money_train)\n",
    "grid_search_money.best_estimator_, grid_search_money.best_score_, "
   ]
  },
  {
   "cell_type": "markdown",
   "metadata": {},
   "source": [
    "使用K折交叉验证对模型进行评价"
   ]
  },
  {
   "cell_type": "code",
   "execution_count": 21,
   "metadata": {},
   "outputs": [
    {
     "data": {
      "text/plain": [
       "0.915"
      ]
     },
     "execution_count": 21,
     "metadata": {},
     "output_type": "execute_result"
    }
   ],
   "source": [
    "cross_val_score(model_money, x_money,y_money,cv=5,scoring='accuracy').mean()\n",
    "# cross_val_score(model_risk,x_risk,y_risk,cv=5,scoring='accuracy').mean()"
   ]
  },
  {
   "cell_type": "markdown",
   "metadata": {},
   "source": [
    "## 评分卡规则转换"
   ]
  },
  {
   "cell_type": "code",
   "execution_count": 22,
   "metadata": {},
   "outputs": [],
   "source": [
    "# 引入评分卡woe\n",
    "# 对字段进行分类\n",
    "# 构建评分卡规则 variable binning score\n",
    "# 根据 risk_score和money_score两个维度画波士顿矩阵BCG"
   ]
  },
  {
   "cell_type": "markdown",
   "metadata": {},
   "source": [
    "得到woe规则"
   ]
  },
  {
   "cell_type": "code",
   "execution_count": 23,
   "metadata": {},
   "outputs": [],
   "source": [
    "# 有risk_label 和 自变量risk\n",
    "# risk_cols = [i for i in df.columns if i.startswith('risk')]\n",
    "money_cols = ['money' + str(x) for x in range(1, 10)]\n",
    "# print(risk_cols)\n",
    "x_money = df[money_cols]\n",
    "y_money = df['money_label']"
   ]
  },
  {
   "cell_type": "code",
   "execution_count": 24,
   "metadata": {},
   "outputs": [
    {
     "data": {
      "text/html": [
       "<div>\n",
       "<style scoped>\n",
       "    .dataframe tbody tr th:only-of-type {\n",
       "        vertical-align: middle;\n",
       "    }\n",
       "\n",
       "    .dataframe tbody tr th {\n",
       "        vertical-align: top;\n",
       "    }\n",
       "\n",
       "    .dataframe thead th {\n",
       "        text-align: right;\n",
       "    }\n",
       "</style>\n",
       "<table border=\"1\" class=\"dataframe\">\n",
       "  <thead>\n",
       "    <tr style=\"text-align: right;\">\n",
       "      <th></th>\n",
       "      <th>money1</th>\n",
       "      <th>money2</th>\n",
       "      <th>money3</th>\n",
       "      <th>money4</th>\n",
       "      <th>money5</th>\n",
       "      <th>money6</th>\n",
       "      <th>money7</th>\n",
       "      <th>money8</th>\n",
       "      <th>money9</th>\n",
       "    </tr>\n",
       "  </thead>\n",
       "  <tbody>\n",
       "    <tr>\n",
       "      <th>0</th>\n",
       "      <td>21</td>\n",
       "      <td>86</td>\n",
       "      <td>466</td>\n",
       "      <td>287</td>\n",
       "      <td>536</td>\n",
       "      <td>206</td>\n",
       "      <td>191</td>\n",
       "      <td>747</td>\n",
       "      <td>524</td>\n",
       "    </tr>\n",
       "  </tbody>\n",
       "</table>\n",
       "</div>"
      ],
      "text/plain": [
       "   money1  money2  money3  money4  money5  money6  money7  money8  money9\n",
       "0      21      86     466     287     536     206     191     747     524"
      ]
     },
     "execution_count": 24,
     "metadata": {},
     "output_type": "execute_result"
    }
   ],
   "source": [
    "x_money.head(1)"
   ]
  },
  {
   "cell_type": "markdown",
   "metadata": {},
   "source": [
    "### 使用WOE+LR建模"
   ]
  },
  {
   "cell_type": "markdown",
   "metadata": {},
   "source": [
    "等频：得到分箱字段"
   ]
  },
  {
   "cell_type": "code",
   "execution_count": 25,
   "metadata": {},
   "outputs": [],
   "source": [
    "def get_bin_features(data, q=10):\n",
    "    columns = data.columns\n",
    "    for column in columns:\n",
    "        data['bin_' + column] = pd.qcut(data[column], q=q, duplicates='drop') # 跨多个箱使用 duplicates='drop'\n",
    "    return data"
   ]
  },
  {
   "cell_type": "code",
   "execution_count": 26,
   "metadata": {},
   "outputs": [
    {
     "name": "stdout",
     "output_type": "stream",
     "text": [
      "['bin_money1', 'bin_money2', 'bin_money3', 'bin_money4', 'bin_money5', 'bin_money6', 'bin_money7', 'bin_money8', 'bin_money9']\n"
     ]
    }
   ],
   "source": [
    "bin_cols = ['bin_money' + str(x) for x in range(1, 10)]\n",
    "print(bin_cols)"
   ]
  },
  {
   "cell_type": "code",
   "execution_count": 27,
   "metadata": {},
   "outputs": [
    {
     "data": {
      "text/html": [
       "<div>\n",
       "<style scoped>\n",
       "    .dataframe tbody tr th:only-of-type {\n",
       "        vertical-align: middle;\n",
       "    }\n",
       "\n",
       "    .dataframe tbody tr th {\n",
       "        vertical-align: top;\n",
       "    }\n",
       "\n",
       "    .dataframe thead th {\n",
       "        text-align: right;\n",
       "    }\n",
       "</style>\n",
       "<table border=\"1\" class=\"dataframe\">\n",
       "  <thead>\n",
       "    <tr style=\"text-align: right;\">\n",
       "      <th></th>\n",
       "      <th>money1</th>\n",
       "      <th>money2</th>\n",
       "      <th>money3</th>\n",
       "      <th>money4</th>\n",
       "      <th>money5</th>\n",
       "      <th>money6</th>\n",
       "      <th>money7</th>\n",
       "      <th>money8</th>\n",
       "      <th>money9</th>\n",
       "      <th>bin_money1</th>\n",
       "      <th>bin_money2</th>\n",
       "      <th>bin_money3</th>\n",
       "      <th>bin_money4</th>\n",
       "      <th>bin_money5</th>\n",
       "      <th>bin_money6</th>\n",
       "      <th>bin_money7</th>\n",
       "      <th>bin_money8</th>\n",
       "      <th>bin_money9</th>\n",
       "    </tr>\n",
       "  </thead>\n",
       "  <tbody>\n",
       "    <tr>\n",
       "      <th>0</th>\n",
       "      <td>21</td>\n",
       "      <td>86</td>\n",
       "      <td>466</td>\n",
       "      <td>287</td>\n",
       "      <td>536</td>\n",
       "      <td>206</td>\n",
       "      <td>191</td>\n",
       "      <td>747</td>\n",
       "      <td>524</td>\n",
       "      <td>(0.999, 62.8]</td>\n",
       "      <td>(68.7, 186.0]</td>\n",
       "      <td>(429.6, 530.5]</td>\n",
       "      <td>(226.8, 352.1]</td>\n",
       "      <td>(481.5, 577.8]</td>\n",
       "      <td>(182.4, 261.0]</td>\n",
       "      <td>(120.8, 191.8]</td>\n",
       "      <td>(711.3, 812.2]</td>\n",
       "      <td>(464.0, 575.6]</td>\n",
       "    </tr>\n",
       "  </tbody>\n",
       "</table>\n",
       "</div>"
      ],
      "text/plain": [
       "   money1  money2  money3  money4  money5  money6  money7  money8  money9  \\\n",
       "0      21      86     466     287     536     206     191     747     524   \n",
       "\n",
       "      bin_money1     bin_money2      bin_money3      bin_money4  \\\n",
       "0  (0.999, 62.8]  (68.7, 186.0]  (429.6, 530.5]  (226.8, 352.1]   \n",
       "\n",
       "       bin_money5      bin_money6      bin_money7      bin_money8  \\\n",
       "0  (481.5, 577.8]  (182.4, 261.0]  (120.8, 191.8]  (711.3, 812.2]   \n",
       "\n",
       "       bin_money9  \n",
       "0  (464.0, 575.6]  "
      ]
     },
     "execution_count": 27,
     "metadata": {},
     "output_type": "execute_result"
    }
   ],
   "source": [
    "'''在原始数据的基础上直接增加bin_risk字段，需要copy一份，分箱的字段单独放在一个表里面'''\n",
    "x_data = x_money.copy()\n",
    "y_data = y_money.copy()\n",
    "get_bin_features(x_data).head(1)"
   ]
  },
  {
   "cell_type": "code",
   "execution_count": 28,
   "metadata": {},
   "outputs": [],
   "source": [
    "def cal_IV(data, feature, target):\n",
    "    lst = []\n",
    "    cols = ['Variable','Value','All','Bad'] #value=feature=bin_age All是Value个数  Bad=bad个数\n",
    "    for i in range(data[feature].nunique()): # nunique = unique的个数 比如：bin_age的 value值一共有6个。\n",
    "        val = list(data[feature].unique())[i] # 第 i 个value：从feature字段中取出所有value的名字  eg:共6个 [(40.0, 50.0], (25.0, 40.0], (70.0, inf], (50.0, 60.0], (60.0, 70.0], (-inf, 25.0]]\n",
    "        # 统计feature，feature_value, 这个value的个数，这个value导致target=1\n",
    "        temp1 = data[data[feature]==val].count()[feature] # 在feature字段中找到其总数\n",
    "        temp2 = data[(data[feature]==val) & (data[target]==1)].count()[feature]  # target=1的个数\n",
    "#         print(feature, val, temp1, temp2) # 比如：bin_age (40.0, 50.0] 35037 2893 在bin_age字段中找到\n",
    "        lst.append([feature, val, temp1, temp2])\n",
    "#     print('lst',lst)   # temp1=All temp2=Bad\n",
    "\n",
    "    data = pd.DataFrame(lst, columns=cols)\n",
    "    data = data[data['Bad'] > 0]\n",
    "    data['Share'] = data['All'] / data['All'].sum() # share是每个 value的比例， 比如：(40.0, 50.0]的比例\n",
    "    data['Bad_Rate'] = data['Bad'] / data['All'] # value导致bad的情况在这个value的比例： （40,50]中bad 占整个（40,50]的情况： 2893/35037\n",
    "    data['Distribution_Bad'] = (data['Bad'] + 0.5) / data['Bad'].sum() #这个value导致bad 在所有bad中的情况\n",
    "    data['Distribution_Good'] = (data['All'] - data['Bad'] + 0.5) / (data['All'].sum() - data['Bad'].sum()) # (35037-2893)/[data.All.sum() - data.Bad.sum()]\n",
    "    data['WOE'] = np.log1p(data['Distribution_Bad'] / data['Distribution_Good'])\n",
    "#     data['IV'] = ((data['Distribution_Bad'] - data['Distribution_Good']) * data['WOE']).sum()\n",
    "    data['IV'] = (data['Distribution_Bad'] - data['Distribution_Good']) * data['WOE']\n",
    "    \n",
    "    data.sort_values(by=['Variable','Value'], ascending=True)\n",
    "#     print(data)\n",
    "    return data['IV'].sum() # 获得IV值"
   ]
  },
  {
   "cell_type": "code",
   "execution_count": 29,
   "metadata": {},
   "outputs": [
    {
     "data": {
      "text/html": [
       "<div>\n",
       "<style scoped>\n",
       "    .dataframe tbody tr th:only-of-type {\n",
       "        vertical-align: middle;\n",
       "    }\n",
       "\n",
       "    .dataframe tbody tr th {\n",
       "        vertical-align: top;\n",
       "    }\n",
       "\n",
       "    .dataframe thead th {\n",
       "        text-align: right;\n",
       "    }\n",
       "</style>\n",
       "<table border=\"1\" class=\"dataframe\">\n",
       "  <thead>\n",
       "    <tr style=\"text-align: right;\">\n",
       "      <th></th>\n",
       "      <th>money1</th>\n",
       "      <th>money2</th>\n",
       "      <th>money3</th>\n",
       "      <th>money4</th>\n",
       "      <th>money5</th>\n",
       "      <th>money6</th>\n",
       "      <th>money7</th>\n",
       "      <th>money8</th>\n",
       "      <th>money9</th>\n",
       "      <th>bin_money1</th>\n",
       "      <th>bin_money2</th>\n",
       "      <th>bin_money3</th>\n",
       "      <th>bin_money4</th>\n",
       "      <th>bin_money5</th>\n",
       "      <th>bin_money6</th>\n",
       "      <th>bin_money7</th>\n",
       "      <th>bin_money8</th>\n",
       "      <th>bin_money9</th>\n",
       "    </tr>\n",
       "  </thead>\n",
       "  <tbody>\n",
       "    <tr>\n",
       "      <th>0</th>\n",
       "      <td>21</td>\n",
       "      <td>86</td>\n",
       "      <td>466</td>\n",
       "      <td>287</td>\n",
       "      <td>536</td>\n",
       "      <td>206</td>\n",
       "      <td>191</td>\n",
       "      <td>747</td>\n",
       "      <td>524</td>\n",
       "      <td>(0.999, 62.8]</td>\n",
       "      <td>(68.7, 186.0]</td>\n",
       "      <td>(429.6, 530.5]</td>\n",
       "      <td>(226.8, 352.1]</td>\n",
       "      <td>(481.5, 577.8]</td>\n",
       "      <td>(182.4, 261.0]</td>\n",
       "      <td>(120.8, 191.8]</td>\n",
       "      <td>(711.3, 812.2]</td>\n",
       "      <td>(464.0, 575.6]</td>\n",
       "    </tr>\n",
       "  </tbody>\n",
       "</table>\n",
       "</div>"
      ],
      "text/plain": [
       "   money1  money2  money3  money4  money5  money6  money7  money8  money9  \\\n",
       "0      21      86     466     287     536     206     191     747     524   \n",
       "\n",
       "      bin_money1     bin_money2      bin_money3      bin_money4  \\\n",
       "0  (0.999, 62.8]  (68.7, 186.0]  (429.6, 530.5]  (226.8, 352.1]   \n",
       "\n",
       "       bin_money5      bin_money6      bin_money7      bin_money8  \\\n",
       "0  (481.5, 577.8]  (182.4, 261.0]  (120.8, 191.8]  (711.3, 812.2]   \n",
       "\n",
       "       bin_money9  \n",
       "0  (464.0, 575.6]  "
      ]
     },
     "execution_count": 29,
     "metadata": {},
     "output_type": "execute_result"
    }
   ],
   "source": [
    "x_data.head(1)"
   ]
  },
  {
   "cell_type": "code",
   "execution_count": 30,
   "metadata": {},
   "outputs": [],
   "source": [
    "# 计算 data中 bin字段的 IV 值，target为目标列\n",
    "def cal_all_IV(data, target, threhold=0):\n",
    "    result = {}\n",
    "    for col in bin_cols:\n",
    "        temp_IV = cal_IV(data, col, target)\n",
    "        print(col, temp_IV)\n",
    "        result[col] = temp_IV\n",
    "    return result"
   ]
  },
  {
   "cell_type": "code",
   "execution_count": 31,
   "metadata": {},
   "outputs": [
    {
     "name": "stdout",
     "output_type": "stream",
     "text": [
      "bin_money1 0.31810661479461205\n",
      "bin_money2 0.442926348055345\n",
      "bin_money3 0.4426695351989419\n",
      "bin_money4 0.44268382893606195\n",
      "bin_money5 0.44302945163330804\n",
      "bin_money6 0.31810661479461205\n",
      "bin_money7 0.3332748962960003\n",
      "bin_money8 0.31810661479461205\n",
      "bin_money9 0.4426695351989419\n"
     ]
    }
   ],
   "source": [
    "# 计算各个 bin字段的IV值\n",
    "x_data['money_target'] = y_data # 在DataFrame中增加一列的写法\n",
    "cal_IVs = cal_all_IV(x_data, 'money_target')"
   ]
  },
  {
   "cell_type": "code",
   "execution_count": 32,
   "metadata": {},
   "outputs": [
    {
     "data": {
      "text/plain": [
       "'result是元组内容 '"
      ]
     },
     "execution_count": 32,
     "metadata": {},
     "output_type": "execute_result"
    }
   ],
   "source": [
    "# 返回IV值大于threshold的 bin字段名称\n",
    "def cal_filtered_IV(cal_IVs, threshold=0.1):\n",
    "    result = {k:v for k,v in cal_IVs.items() if v >= threshold}\n",
    "    return result.keys() # 通过key拿到字典形式\n",
    "'''result是元组内容 '''"
   ]
  },
  {
   "cell_type": "code",
   "execution_count": 33,
   "metadata": {},
   "outputs": [
    {
     "data": {
      "text/plain": [
       "dict_keys(['bin_money1', 'bin_money2', 'bin_money3', 'bin_money4', 'bin_money5', 'bin_money6', 'bin_money7', 'bin_money8', 'bin_money9'])"
      ]
     },
     "execution_count": 33,
     "metadata": {},
     "output_type": "execute_result"
    }
   ],
   "source": [
    "col_filter = cal_filtered_IV(cal_IVs)\n",
    "col_filter"
   ]
  },
  {
   "cell_type": "code",
   "execution_count": 34,
   "metadata": {},
   "outputs": [],
   "source": [
    "def cal_WOE(data, features, target):\n",
    "    data_new = data\n",
    "    for feature in features:\n",
    "#         data_woe1 = data_new.groupby(feature).agg(['sum','count']) # 求出根据 feature 分组之后每组的 sum和 count\n",
    "        # target:['sum','count'] 相当于 feature分组之后的众多组数中筛选出 target 的那组\n",
    "        data_woe = data_new.groupby(feature).agg({target:['sum', 'count']}) # (-0.001, 1.0] sum=7420  count=108526\n",
    "#         print(data_woe1)\n",
    "#         print(data_woe.columns)\n",
    "        # 查看 columns的名字，方便后面的重命名操作 columns={target+'sum'}\n",
    "        data_woe.columns = list(map(''.join, data_woe.columns)) #做求和\n",
    "#         print(data_woe.columns)  # [target+'sum' = SeriousDlqin2yrssum', 'SeriousDlqin2yrscount']\n",
    "        \n",
    "        data_woe = data_woe.reset_index().rename(columns={target+'sum':'bad', target+'count':'all'})\n",
    "#         print(data_woe)\n",
    "\n",
    "        data_woe['good'] = data_woe['all'] - data_woe['bad']\n",
    "        data_woe = data_woe[[feature, 'good', 'bad']]\n",
    "        # 为了避免分母为0 在 bad 和 good \n",
    "        data_woe['bad_rate'] = (data_woe['bad'] + 0.5) / data_woe['bad'].sum()\n",
    "        data_woe['good_rate'] = (data_woe['good'] + 0.5) / data_woe['good'].sum()\n",
    "        # 计算woe\n",
    "#         data_woe['woe'] = data_woe['bad_rate'].divide(data_woe['good_rate'])\n",
    "        data_woe['woe'] = np.log1p(data_woe['bad_rate'] / data_woe['good_rate'])\n",
    "        # 在后面拼接上 _feature, 比如 _age\n",
    "        data_woe.columns = [c if c==feature else c+'_'+feature for c in list(data_woe.columns.values)]\n",
    "        # 拼接\n",
    "        data_new = data_new.merge(data_woe, on=feature, how='left')\n",
    "    return data_new"
   ]
  },
  {
   "cell_type": "code",
   "execution_count": 35,
   "metadata": {},
   "outputs": [
    {
     "data": {
      "text/html": [
       "<div>\n",
       "<style scoped>\n",
       "    .dataframe tbody tr th:only-of-type {\n",
       "        vertical-align: middle;\n",
       "    }\n",
       "\n",
       "    .dataframe tbody tr th {\n",
       "        vertical-align: top;\n",
       "    }\n",
       "\n",
       "    .dataframe thead th {\n",
       "        text-align: right;\n",
       "    }\n",
       "</style>\n",
       "<table border=\"1\" class=\"dataframe\">\n",
       "  <thead>\n",
       "    <tr style=\"text-align: right;\">\n",
       "      <th></th>\n",
       "      <th>money1</th>\n",
       "      <th>money2</th>\n",
       "      <th>money3</th>\n",
       "      <th>money4</th>\n",
       "      <th>money5</th>\n",
       "      <th>money6</th>\n",
       "      <th>money7</th>\n",
       "      <th>money8</th>\n",
       "      <th>money9</th>\n",
       "      <th>bin_money1</th>\n",
       "      <th>bin_money2</th>\n",
       "      <th>bin_money3</th>\n",
       "      <th>bin_money4</th>\n",
       "      <th>bin_money5</th>\n",
       "      <th>bin_money6</th>\n",
       "      <th>bin_money7</th>\n",
       "      <th>bin_money8</th>\n",
       "      <th>bin_money9</th>\n",
       "      <th>money_target</th>\n",
       "    </tr>\n",
       "  </thead>\n",
       "  <tbody>\n",
       "    <tr>\n",
       "      <th>0</th>\n",
       "      <td>21</td>\n",
       "      <td>86</td>\n",
       "      <td>466</td>\n",
       "      <td>287</td>\n",
       "      <td>536</td>\n",
       "      <td>206</td>\n",
       "      <td>191</td>\n",
       "      <td>747</td>\n",
       "      <td>524</td>\n",
       "      <td>(0.999, 62.8]</td>\n",
       "      <td>(68.7, 186.0]</td>\n",
       "      <td>(429.6, 530.5]</td>\n",
       "      <td>(226.8, 352.1]</td>\n",
       "      <td>(481.5, 577.8]</td>\n",
       "      <td>(182.4, 261.0]</td>\n",
       "      <td>(120.8, 191.8]</td>\n",
       "      <td>(711.3, 812.2]</td>\n",
       "      <td>(464.0, 575.6]</td>\n",
       "      <td>0</td>\n",
       "    </tr>\n",
       "  </tbody>\n",
       "</table>\n",
       "</div>"
      ],
      "text/plain": [
       "   money1  money2  money3  money4  money5  money6  money7  money8  money9  \\\n",
       "0      21      86     466     287     536     206     191     747     524   \n",
       "\n",
       "      bin_money1     bin_money2      bin_money3      bin_money4  \\\n",
       "0  (0.999, 62.8]  (68.7, 186.0]  (429.6, 530.5]  (226.8, 352.1]   \n",
       "\n",
       "       bin_money5      bin_money6      bin_money7      bin_money8  \\\n",
       "0  (481.5, 577.8]  (182.4, 261.0]  (120.8, 191.8]  (711.3, 812.2]   \n",
       "\n",
       "       bin_money9  money_target  \n",
       "0  (464.0, 575.6]             0  "
      ]
     },
     "execution_count": 35,
     "metadata": {},
     "output_type": "execute_result"
    }
   ],
   "source": [
    "x_data.head(1)"
   ]
  },
  {
   "cell_type": "code",
   "execution_count": 36,
   "metadata": {},
   "outputs": [
    {
     "data": {
      "text/html": [
       "<div>\n",
       "<style scoped>\n",
       "    .dataframe tbody tr th:only-of-type {\n",
       "        vertical-align: middle;\n",
       "    }\n",
       "\n",
       "    .dataframe tbody tr th {\n",
       "        vertical-align: top;\n",
       "    }\n",
       "\n",
       "    .dataframe thead th {\n",
       "        text-align: right;\n",
       "    }\n",
       "</style>\n",
       "<table border=\"1\" class=\"dataframe\">\n",
       "  <thead>\n",
       "    <tr style=\"text-align: right;\">\n",
       "      <th></th>\n",
       "      <th>money1</th>\n",
       "      <th>money2</th>\n",
       "      <th>money3</th>\n",
       "      <th>money4</th>\n",
       "      <th>money5</th>\n",
       "      <th>money6</th>\n",
       "      <th>money7</th>\n",
       "      <th>money8</th>\n",
       "      <th>money9</th>\n",
       "      <th>bin_money1</th>\n",
       "      <th>bin_money2</th>\n",
       "      <th>bin_money3</th>\n",
       "      <th>bin_money4</th>\n",
       "      <th>bin_money5</th>\n",
       "      <th>bin_money6</th>\n",
       "      <th>bin_money7</th>\n",
       "      <th>bin_money8</th>\n",
       "      <th>bin_money9</th>\n",
       "      <th>money_target</th>\n",
       "      <th>good_bin_money1</th>\n",
       "      <th>bad_bin_money1</th>\n",
       "      <th>bad_rate_bin_money1</th>\n",
       "      <th>good_rate_bin_money1</th>\n",
       "      <th>woe_bin_money1</th>\n",
       "      <th>good_bin_money2</th>\n",
       "      <th>bad_bin_money2</th>\n",
       "      <th>bad_rate_bin_money2</th>\n",
       "      <th>good_rate_bin_money2</th>\n",
       "      <th>woe_bin_money2</th>\n",
       "      <th>good_bin_money3</th>\n",
       "      <th>bad_bin_money3</th>\n",
       "      <th>bad_rate_bin_money3</th>\n",
       "      <th>good_rate_bin_money3</th>\n",
       "      <th>woe_bin_money3</th>\n",
       "      <th>good_bin_money4</th>\n",
       "      <th>bad_bin_money4</th>\n",
       "      <th>bad_rate_bin_money4</th>\n",
       "      <th>good_rate_bin_money4</th>\n",
       "      <th>woe_bin_money4</th>\n",
       "      <th>good_bin_money5</th>\n",
       "      <th>bad_bin_money5</th>\n",
       "      <th>bad_rate_bin_money5</th>\n",
       "      <th>good_rate_bin_money5</th>\n",
       "      <th>woe_bin_money5</th>\n",
       "      <th>good_bin_money6</th>\n",
       "      <th>bad_bin_money6</th>\n",
       "      <th>bad_rate_bin_money6</th>\n",
       "      <th>good_rate_bin_money6</th>\n",
       "      <th>woe_bin_money6</th>\n",
       "      <th>good_bin_money7</th>\n",
       "      <th>bad_bin_money7</th>\n",
       "      <th>bad_rate_bin_money7</th>\n",
       "      <th>good_rate_bin_money7</th>\n",
       "      <th>woe_bin_money7</th>\n",
       "      <th>good_bin_money8</th>\n",
       "      <th>bad_bin_money8</th>\n",
       "      <th>bad_rate_bin_money8</th>\n",
       "      <th>good_rate_bin_money8</th>\n",
       "      <th>woe_bin_money8</th>\n",
       "      <th>good_bin_money9</th>\n",
       "      <th>bad_bin_money9</th>\n",
       "      <th>bad_rate_bin_money9</th>\n",
       "      <th>good_rate_bin_money9</th>\n",
       "      <th>woe_bin_money9</th>\n",
       "    </tr>\n",
       "  </thead>\n",
       "  <tbody>\n",
       "    <tr>\n",
       "      <th>0</th>\n",
       "      <td>21</td>\n",
       "      <td>86</td>\n",
       "      <td>466</td>\n",
       "      <td>287</td>\n",
       "      <td>536</td>\n",
       "      <td>206</td>\n",
       "      <td>191</td>\n",
       "      <td>747</td>\n",
       "      <td>524</td>\n",
       "      <td>(0.999, 62.8]</td>\n",
       "      <td>(68.7, 186.0]</td>\n",
       "      <td>(429.6, 530.5]</td>\n",
       "      <td>(226.8, 352.1]</td>\n",
       "      <td>(481.5, 577.8]</td>\n",
       "      <td>(182.4, 261.0]</td>\n",
       "      <td>(120.8, 191.8]</td>\n",
       "      <td>(711.3, 812.2]</td>\n",
       "      <td>(464.0, 575.6]</td>\n",
       "      <td>0</td>\n",
       "      <td>40</td>\n",
       "      <td>0</td>\n",
       "      <td>0.166667</td>\n",
       "      <td>0.102015</td>\n",
       "      <td>0.968407</td>\n",
       "      <td>40</td>\n",
       "      <td>0</td>\n",
       "      <td>0.166667</td>\n",
       "      <td>0.102015</td>\n",
       "      <td>0.968407</td>\n",
       "      <td>40</td>\n",
       "      <td>0</td>\n",
       "      <td>0.166667</td>\n",
       "      <td>0.102015</td>\n",
       "      <td>0.968407</td>\n",
       "      <td>40</td>\n",
       "      <td>0</td>\n",
       "      <td>0.166667</td>\n",
       "      <td>0.102015</td>\n",
       "      <td>0.968407</td>\n",
       "      <td>40</td>\n",
       "      <td>0</td>\n",
       "      <td>0.166667</td>\n",
       "      <td>0.102015</td>\n",
       "      <td>0.968407</td>\n",
       "      <td>42</td>\n",
       "      <td>0</td>\n",
       "      <td>0.166667</td>\n",
       "      <td>0.107053</td>\n",
       "      <td>0.938781</td>\n",
       "      <td>40</td>\n",
       "      <td>0</td>\n",
       "      <td>0.166667</td>\n",
       "      <td>0.102015</td>\n",
       "      <td>0.968407</td>\n",
       "      <td>40</td>\n",
       "      <td>0</td>\n",
       "      <td>0.166667</td>\n",
       "      <td>0.102015</td>\n",
       "      <td>0.968407</td>\n",
       "      <td>40</td>\n",
       "      <td>0</td>\n",
       "      <td>0.166667</td>\n",
       "      <td>0.102015</td>\n",
       "      <td>0.968407</td>\n",
       "    </tr>\n",
       "  </tbody>\n",
       "</table>\n",
       "</div>"
      ],
      "text/plain": [
       "   money1  money2  money3  money4  money5  money6  money7  money8  money9  \\\n",
       "0      21      86     466     287     536     206     191     747     524   \n",
       "\n",
       "      bin_money1     bin_money2      bin_money3      bin_money4  \\\n",
       "0  (0.999, 62.8]  (68.7, 186.0]  (429.6, 530.5]  (226.8, 352.1]   \n",
       "\n",
       "       bin_money5      bin_money6      bin_money7      bin_money8  \\\n",
       "0  (481.5, 577.8]  (182.4, 261.0]  (120.8, 191.8]  (711.3, 812.2]   \n",
       "\n",
       "       bin_money9  money_target  good_bin_money1  bad_bin_money1  \\\n",
       "0  (464.0, 575.6]             0               40               0   \n",
       "\n",
       "   bad_rate_bin_money1  good_rate_bin_money1  woe_bin_money1  good_bin_money2  \\\n",
       "0             0.166667              0.102015        0.968407               40   \n",
       "\n",
       "   bad_bin_money2  bad_rate_bin_money2  good_rate_bin_money2  woe_bin_money2  \\\n",
       "0               0             0.166667              0.102015        0.968407   \n",
       "\n",
       "   good_bin_money3  bad_bin_money3  bad_rate_bin_money3  good_rate_bin_money3  \\\n",
       "0               40               0             0.166667              0.102015   \n",
       "\n",
       "   woe_bin_money3  good_bin_money4  bad_bin_money4  bad_rate_bin_money4  \\\n",
       "0        0.968407               40               0             0.166667   \n",
       "\n",
       "   good_rate_bin_money4  woe_bin_money4  good_bin_money5  bad_bin_money5  \\\n",
       "0              0.102015        0.968407               40               0   \n",
       "\n",
       "   bad_rate_bin_money5  good_rate_bin_money5  woe_bin_money5  good_bin_money6  \\\n",
       "0             0.166667              0.102015        0.968407               42   \n",
       "\n",
       "   bad_bin_money6  bad_rate_bin_money6  good_rate_bin_money6  woe_bin_money6  \\\n",
       "0               0             0.166667              0.107053        0.938781   \n",
       "\n",
       "   good_bin_money7  bad_bin_money7  bad_rate_bin_money7  good_rate_bin_money7  \\\n",
       "0               40               0             0.166667              0.102015   \n",
       "\n",
       "   woe_bin_money7  good_bin_money8  bad_bin_money8  bad_rate_bin_money8  \\\n",
       "0        0.968407               40               0             0.166667   \n",
       "\n",
       "   good_rate_bin_money8  woe_bin_money8  good_bin_money9  bad_bin_money9  \\\n",
       "0              0.102015        0.968407               40               0   \n",
       "\n",
       "   bad_rate_bin_money9  good_rate_bin_money9  woe_bin_money9  \n",
       "0             0.166667              0.102015        0.968407  "
      ]
     },
     "execution_count": 36,
     "metadata": {},
     "output_type": "execute_result"
    }
   ],
   "source": [
    "data_woe = cal_WOE(x_data, col_filter, 'money_target')\n",
    "data_woe.head(1)"
   ]
  },
  {
   "cell_type": "code",
   "execution_count": 37,
   "metadata": {},
   "outputs": [
    {
     "name": "stdout",
     "output_type": "stream",
     "text": [
      "['woe_bin_money1', 'woe_bin_money2', 'woe_bin_money3', 'woe_bin_money4', 'woe_bin_money5', 'woe_bin_money6', 'woe_bin_money7', 'woe_bin_money8', 'woe_bin_money9']\n"
     ]
    },
    {
     "data": {
      "text/html": [
       "<div>\n",
       "<style scoped>\n",
       "    .dataframe tbody tr th:only-of-type {\n",
       "        vertical-align: middle;\n",
       "    }\n",
       "\n",
       "    .dataframe tbody tr th {\n",
       "        vertical-align: top;\n",
       "    }\n",
       "\n",
       "    .dataframe thead th {\n",
       "        text-align: right;\n",
       "    }\n",
       "</style>\n",
       "<table border=\"1\" class=\"dataframe\">\n",
       "  <thead>\n",
       "    <tr style=\"text-align: right;\">\n",
       "      <th></th>\n",
       "      <th>woe_bin_money1</th>\n",
       "      <th>woe_bin_money2</th>\n",
       "      <th>woe_bin_money3</th>\n",
       "      <th>woe_bin_money4</th>\n",
       "      <th>woe_bin_money5</th>\n",
       "      <th>woe_bin_money6</th>\n",
       "      <th>woe_bin_money7</th>\n",
       "      <th>woe_bin_money8</th>\n",
       "      <th>woe_bin_money9</th>\n",
       "    </tr>\n",
       "  </thead>\n",
       "  <tbody>\n",
       "    <tr>\n",
       "      <th>0</th>\n",
       "      <td>0.968407</td>\n",
       "      <td>0.968407</td>\n",
       "      <td>0.968407</td>\n",
       "      <td>0.968407</td>\n",
       "      <td>0.968407</td>\n",
       "      <td>0.938781</td>\n",
       "      <td>0.968407</td>\n",
       "      <td>0.968407</td>\n",
       "      <td>0.968407</td>\n",
       "    </tr>\n",
       "  </tbody>\n",
       "</table>\n",
       "</div>"
      ],
      "text/plain": [
       "   woe_bin_money1  woe_bin_money2  woe_bin_money3  woe_bin_money4  \\\n",
       "0        0.968407        0.968407        0.968407        0.968407   \n",
       "\n",
       "   woe_bin_money5  woe_bin_money6  woe_bin_money7  woe_bin_money8  \\\n",
       "0        0.968407        0.938781        0.968407        0.968407   \n",
       "\n",
       "   woe_bin_money9  \n",
       "0        0.968407  "
      ]
     },
     "execution_count": 37,
     "metadata": {},
     "output_type": "execute_result"
    }
   ],
   "source": [
    "# 得到IV大于0.1 的特征值的 woe\n",
    "woe_cols = [c for c in data_woe.columns if 'woe' in c]\n",
    "print(woe_cols)\n",
    "data_woe[woe_cols].head(1)"
   ]
  },
  {
   "cell_type": "code",
   "execution_count": 38,
   "metadata": {},
   "outputs": [],
   "source": [
    "# 得到 WOE 规则\n",
    "def get_woe_rules(data_woe, feature_cols):\n",
    "    data_bin_to_woe = pd.DataFrame(columns=['feature','bin','woe'])\n",
    "    for f in feature_cols:\n",
    "        b = 'bin_' + f\n",
    "        w = 'woe_bin_' + f\n",
    "        # 对每个feature找到相应的 bin字段和 woe字段\n",
    "        data = data_woe[[w, b]].drop_duplicates()\n",
    "        data.columns = ['woe', 'bin']\n",
    "        data['feature'] = f\n",
    "        data = data[['feature', 'bin', 'woe']]\n",
    "        # 按照行的方式进行拼接\n",
    "        data_bin_to_woe = pd.concat([data_bin_to_woe, data])\n",
    "    return data_bin_to_woe"
   ]
  },
  {
   "cell_type": "code",
   "execution_count": 39,
   "metadata": {},
   "outputs": [
    {
     "name": "stdout",
     "output_type": "stream",
     "text": [
      "['money1', 'money2', 'money3', 'money4', 'money5', 'money6', 'money7', 'money8', 'money9']\n"
     ]
    },
    {
     "data": {
      "text/html": [
       "<div>\n",
       "<style scoped>\n",
       "    .dataframe tbody tr th:only-of-type {\n",
       "        vertical-align: middle;\n",
       "    }\n",
       "\n",
       "    .dataframe tbody tr th {\n",
       "        vertical-align: top;\n",
       "    }\n",
       "\n",
       "    .dataframe thead th {\n",
       "        text-align: right;\n",
       "    }\n",
       "</style>\n",
       "<table border=\"1\" class=\"dataframe\">\n",
       "  <thead>\n",
       "    <tr style=\"text-align: right;\">\n",
       "      <th></th>\n",
       "      <th>feature</th>\n",
       "      <th>bin</th>\n",
       "      <th>woe</th>\n",
       "    </tr>\n",
       "  </thead>\n",
       "  <tbody>\n",
       "    <tr>\n",
       "      <th>0</th>\n",
       "      <td>money1</td>\n",
       "      <td>(0.999, 62.8]</td>\n",
       "      <td>0.968407</td>\n",
       "    </tr>\n",
       "  </tbody>\n",
       "</table>\n",
       "</div>"
      ],
      "text/plain": [
       "  feature            bin       woe\n",
       "0  money1  (0.999, 62.8]  0.968407"
      ]
     },
     "execution_count": 39,
     "metadata": {},
     "output_type": "execute_result"
    }
   ],
   "source": [
    "feature_cols = [x[4:] for x in col_filter]\n",
    "print(feature_cols)\n",
    "data_bin_to_woe = get_woe_rules(data_woe, feature_cols)\n",
    "data_bin_to_woe.head(1)"
   ]
  },
  {
   "cell_type": "markdown",
   "metadata": {},
   "source": [
    "### 逻辑回归建模型"
   ]
  },
  {
   "cell_type": "code",
   "execution_count": 40,
   "metadata": {},
   "outputs": [],
   "source": [
    "x_train = x_money_train\n",
    "y_train = y_money_train"
   ]
  },
  {
   "cell_type": "code",
   "execution_count": 41,
   "metadata": {},
   "outputs": [
    {
     "name": "stdout",
     "output_type": "stream",
     "text": [
      "f1 score 0.0\n",
      "accuracy 0.9277777777777778\n"
     ]
    }
   ],
   "source": [
    "C, max_iter = 0.18, 80\n",
    "model = LogisticRegression(C=C, max_iter=max_iter, \n",
    "                           random_state=50, \n",
    "                           penalty='l2', \n",
    "                           tol=0.0001,\n",
    "                           class_weight='balanced').fit(x_train, y_train)\n",
    "# random_state保证每次结果都一样 # 样本不均衡 设置class_weight\n",
    "\n",
    "'''使用交叉验证进行模型评估（cv=5折）'''\n",
    "print('f1 score', cross_val_score(model, x_train, y_train, cv=5, scoring='f1').mean())\n",
    "print('accuracy', cross_val_score(model, x_train, y_train, cv=5, scoring='accuracy').mean())\n",
    "# print(model.score(x_test, y_test))"
   ]
  },
  {
   "cell_type": "code",
   "execution_count": 42,
   "metadata": {},
   "outputs": [
    {
     "name": "stdout",
     "output_type": "stream",
     "text": [
      "Fitting 5 folds for each of 20 candidates, totalling 100 fits\n"
     ]
    },
    {
     "name": "stderr",
     "output_type": "stream",
     "text": [
      "[Parallel(n_jobs=-1)]: Using backend LokyBackend with 4 concurrent workers.\n",
      "[Parallel(n_jobs=-1)]: Done  12 tasks      | elapsed:    0.3s\n",
      "[Parallel(n_jobs=-1)]: Done 100 out of 100 | elapsed:    1.9s finished\n"
     ]
    },
    {
     "data": {
      "text/plain": [
       "(LogisticRegression(C=0.18, class_weight='balanced', max_iter=80),\n",
       " 0.9277777777777778)"
      ]
     },
     "execution_count": 42,
     "metadata": {},
     "output_type": "execute_result"
    }
   ],
   "source": [
    "# 调节参数\n",
    "param_grid = {'C':[0.1, 0.15,0.18,0.19, 0.2],\n",
    "              'max_iter':[50, 70, 80, 90]}\n",
    "\n",
    "grid_search = GridSearchCV(model_risk, n_jobs=-1,\n",
    "                          param_grid=param_grid,\n",
    "                          cv=5,\n",
    "                          scoring='accuracy',\n",
    "                          verbose=5)\n",
    "grid_search.fit(x_train, y_train)\n",
    "grid_search.best_estimator_, grid_search.best_score_"
   ]
  },
  {
   "cell_type": "code",
   "execution_count": 43,
   "metadata": {},
   "outputs": [
    {
     "data": {
      "text/plain": [
       "array([[-0.00978073, -0.01033709, -0.01093846, -0.00955337, -0.00112355,\n",
       "        -0.0053023 , -0.01265264, -0.01608965,  0.00366268]])"
      ]
     },
     "execution_count": 43,
     "metadata": {},
     "output_type": "execute_result"
    }
   ],
   "source": [
    "model.coef_"
   ]
  },
  {
   "cell_type": "code",
   "execution_count": 119,
   "metadata": {},
   "outputs": [
    {
     "data": {
      "text/plain": [
       "dict_keys(['bin_money1', 'bin_money2', 'bin_money3', 'bin_money4', 'bin_money5', 'bin_money6', 'bin_money7', 'bin_money8', 'bin_money9'])"
      ]
     },
     "execution_count": 119,
     "metadata": {},
     "output_type": "execute_result"
    }
   ],
   "source": [
    "col_filter"
   ]
  },
  {
   "cell_type": "markdown",
   "metadata": {},
   "source": [
    "1）生成评分卡generate_scorecard"
   ]
  },
  {
   "cell_type": "code",
   "execution_count": 120,
   "metadata": {},
   "outputs": [
    {
     "data": {
      "text/plain": [
       "'print(df) feature             bin       woe\\n           0   risk8  (0.999, 201.8]  0.516910'"
      ]
     },
     "execution_count": 120,
     "metadata": {},
     "output_type": "execute_result"
    }
   ],
   "source": [
    "A = 10\n",
    "B = 100/np.log(2) # 50 / np.log(2)\n",
    "\n",
    "# 评分卡模型\n",
    "def generate_scorecard(model_coef, binning_df, features, B):\n",
    "    '''\n",
    "    binning_df\n",
    "    features   bin    woe\n",
    "         age (40,50]  0.8137\n",
    "         \n",
    "    features\n",
    "    ['age',\n",
    "     'NumberOfTime30-59DaysPastDueNotWorse',\n",
    "    '''\n",
    "    lst = []\n",
    "    cols = ['Variable','Binning','Score'] # variable是变量， binning是 (40,50]  Score是分数\n",
    "    # 模型系数\n",
    "    coef = model_coef[0]\n",
    "    for i in range(len(features)):\n",
    "        f = features[i]   # risk8 risk 15 risk16 risk 23\n",
    "        # 得到这个feature的 woe规则\n",
    "        df = binning_df[binning_df['feature'] == f]\n",
    "        for index, row in df.iterrows():\n",
    "            # coef_[i]为正数，woe\n",
    "#             print('测试',-coef[i], row.woe, B, float(-coef[i]*row['woe']*B))\n",
    "#             lst.append([f, row['bin'], float(round(-coef[i]*row['woe']*B, -5))])\n",
    "            lst.append([f, row['bin'], float(-coef[i]*row['woe']*B)])\n",
    "    data = pd.DataFrame(lst, columns = cols)\n",
    "    return data\n",
    "'''print(df) feature             bin       woe\n",
    "           0   risk8  (0.999, 201.8]  0.516910'''"
   ]
  },
  {
   "cell_type": "code",
   "execution_count": 121,
   "metadata": {},
   "outputs": [
    {
     "data": {
      "text/html": [
       "<div>\n",
       "<style scoped>\n",
       "    .dataframe tbody tr th:only-of-type {\n",
       "        vertical-align: middle;\n",
       "    }\n",
       "\n",
       "    .dataframe tbody tr th {\n",
       "        vertical-align: top;\n",
       "    }\n",
       "\n",
       "    .dataframe thead th {\n",
       "        text-align: right;\n",
       "    }\n",
       "</style>\n",
       "<table border=\"1\" class=\"dataframe\">\n",
       "  <thead>\n",
       "    <tr style=\"text-align: right;\">\n",
       "      <th></th>\n",
       "      <th>Variable</th>\n",
       "      <th>Binning</th>\n",
       "      <th>Score</th>\n",
       "    </tr>\n",
       "  </thead>\n",
       "  <tbody>\n",
       "    <tr>\n",
       "      <th>0</th>\n",
       "      <td>money1</td>\n",
       "      <td>(0.999, 62.8]</td>\n",
       "      <td>1.366482</td>\n",
       "    </tr>\n",
       "    <tr>\n",
       "      <th>1</th>\n",
       "      <td>money1</td>\n",
       "      <td>(790.0, 890.1]</td>\n",
       "      <td>1.388469</td>\n",
       "    </tr>\n",
       "    <tr>\n",
       "      <th>2</th>\n",
       "      <td>money1</td>\n",
       "      <td>(426.5, 519.0]</td>\n",
       "      <td>1.366482</td>\n",
       "    </tr>\n",
       "    <tr>\n",
       "      <th>3</th>\n",
       "      <td>money1</td>\n",
       "      <td>(646.6, 790.0]</td>\n",
       "      <td>1.345231</td>\n",
       "    </tr>\n",
       "    <tr>\n",
       "      <th>4</th>\n",
       "      <td>money1</td>\n",
       "      <td>(321.6, 426.5]</td>\n",
       "      <td>1.366482</td>\n",
       "    </tr>\n",
       "    <tr>\n",
       "      <th>...</th>\n",
       "      <td>...</td>\n",
       "      <td>...</td>\n",
       "      <td>...</td>\n",
       "    </tr>\n",
       "    <tr>\n",
       "      <th>85</th>\n",
       "      <td>money9</td>\n",
       "      <td>(797.0, 916.3]</td>\n",
       "      <td>-0.960339</td>\n",
       "    </tr>\n",
       "    <tr>\n",
       "      <th>86</th>\n",
       "      <td>money9</td>\n",
       "      <td>(198.8, 279.7]</td>\n",
       "      <td>-0.511719</td>\n",
       "    </tr>\n",
       "    <tr>\n",
       "      <th>87</th>\n",
       "      <td>money9</td>\n",
       "      <td>(704.5, 797.0]</td>\n",
       "      <td>-0.503761</td>\n",
       "    </tr>\n",
       "    <tr>\n",
       "      <th>88</th>\n",
       "      <td>money9</td>\n",
       "      <td>(916.3, 997.0]</td>\n",
       "      <td>-0.511719</td>\n",
       "    </tr>\n",
       "    <tr>\n",
       "      <th>89</th>\n",
       "      <td>money9</td>\n",
       "      <td>(279.7, 383.6]</td>\n",
       "      <td>-0.949014</td>\n",
       "    </tr>\n",
       "  </tbody>\n",
       "</table>\n",
       "<p>90 rows × 3 columns</p>\n",
       "</div>"
      ],
      "text/plain": [
       "   Variable         Binning     Score\n",
       "0    money1   (0.999, 62.8]  1.366482\n",
       "1    money1  (790.0, 890.1]  1.388469\n",
       "2    money1  (426.5, 519.0]  1.366482\n",
       "3    money1  (646.6, 790.0]  1.345231\n",
       "4    money1  (321.6, 426.5]  1.366482\n",
       "..      ...             ...       ...\n",
       "85   money9  (797.0, 916.3] -0.960339\n",
       "86   money9  (198.8, 279.7] -0.511719\n",
       "87   money9  (704.5, 797.0] -0.503761\n",
       "88   money9  (916.3, 997.0] -0.511719\n",
       "89   money9  (279.7, 383.6] -0.949014\n",
       "\n",
       "[90 rows x 3 columns]"
      ]
     },
     "execution_count": 121,
     "metadata": {},
     "output_type": "execute_result"
    }
   ],
   "source": [
    "'''['bin_risk8', ...] => ['risk8', ...]'''\n",
    "feature_cols = [x[4:] for x in col_filter] # feature_cols 是 IV>0.1的值\n",
    "score_card = generate_scorecard(model.coef_, data_bin_to_woe, feature_cols, B)\n",
    "score_card#.head(1)"
   ]
  },
  {
   "cell_type": "code",
   "execution_count": 122,
   "metadata": {},
   "outputs": [
    {
     "data": {
      "text/html": [
       "<div>\n",
       "<style scoped>\n",
       "    .dataframe tbody tr th:only-of-type {\n",
       "        vertical-align: middle;\n",
       "    }\n",
       "\n",
       "    .dataframe tbody tr th {\n",
       "        vertical-align: top;\n",
       "    }\n",
       "\n",
       "    .dataframe thead th {\n",
       "        text-align: right;\n",
       "    }\n",
       "</style>\n",
       "<table border=\"1\" class=\"dataframe\">\n",
       "  <thead>\n",
       "    <tr style=\"text-align: right;\">\n",
       "      <th></th>\n",
       "      <th></th>\n",
       "      <th>Variable</th>\n",
       "      <th>Binning</th>\n",
       "      <th>Score</th>\n",
       "    </tr>\n",
       "    <tr>\n",
       "      <th>Variable</th>\n",
       "      <th></th>\n",
       "      <th></th>\n",
       "      <th></th>\n",
       "      <th></th>\n",
       "    </tr>\n",
       "  </thead>\n",
       "  <tbody>\n",
       "    <tr>\n",
       "      <th rowspan=\"5\" valign=\"top\">money1</th>\n",
       "      <th>3</th>\n",
       "      <td>money1</td>\n",
       "      <td>(646.6, 790.0]</td>\n",
       "      <td>1.345231</td>\n",
       "    </tr>\n",
       "    <tr>\n",
       "      <th>6</th>\n",
       "      <td>money1</td>\n",
       "      <td>(151.0, 218.0]</td>\n",
       "      <td>1.345231</td>\n",
       "    </tr>\n",
       "    <tr>\n",
       "      <th>0</th>\n",
       "      <td>money1</td>\n",
       "      <td>(0.999, 62.8]</td>\n",
       "      <td>1.366482</td>\n",
       "    </tr>\n",
       "    <tr>\n",
       "      <th>2</th>\n",
       "      <td>money1</td>\n",
       "      <td>(426.5, 519.0]</td>\n",
       "      <td>1.366482</td>\n",
       "    </tr>\n",
       "    <tr>\n",
       "      <th>4</th>\n",
       "      <td>money1</td>\n",
       "      <td>(321.6, 426.5]</td>\n",
       "      <td>1.366482</td>\n",
       "    </tr>\n",
       "    <tr>\n",
       "      <th>...</th>\n",
       "      <th>...</th>\n",
       "      <td>...</td>\n",
       "      <td>...</td>\n",
       "      <td>...</td>\n",
       "    </tr>\n",
       "    <tr>\n",
       "      <th rowspan=\"5\" valign=\"top\">money9</th>\n",
       "      <th>84</th>\n",
       "      <td>money9</td>\n",
       "      <td>(383.6, 464.0]</td>\n",
       "      <td>-0.511719</td>\n",
       "    </tr>\n",
       "    <tr>\n",
       "      <th>86</th>\n",
       "      <td>money9</td>\n",
       "      <td>(198.8, 279.7]</td>\n",
       "      <td>-0.511719</td>\n",
       "    </tr>\n",
       "    <tr>\n",
       "      <th>88</th>\n",
       "      <td>money9</td>\n",
       "      <td>(916.3, 997.0]</td>\n",
       "      <td>-0.511719</td>\n",
       "    </tr>\n",
       "    <tr>\n",
       "      <th>82</th>\n",
       "      <td>money9</td>\n",
       "      <td>(2.999, 92.0]</td>\n",
       "      <td>-0.503761</td>\n",
       "    </tr>\n",
       "    <tr>\n",
       "      <th>87</th>\n",
       "      <td>money9</td>\n",
       "      <td>(704.5, 797.0]</td>\n",
       "      <td>-0.503761</td>\n",
       "    </tr>\n",
       "  </tbody>\n",
       "</table>\n",
       "<p>90 rows × 3 columns</p>\n",
       "</div>"
      ],
      "text/plain": [
       "            Variable         Binning     Score\n",
       "Variable                                      \n",
       "money1   3    money1  (646.6, 790.0]  1.345231\n",
       "         6    money1  (151.0, 218.0]  1.345231\n",
       "         0    money1   (0.999, 62.8]  1.366482\n",
       "         2    money1  (426.5, 519.0]  1.366482\n",
       "         4    money1  (321.6, 426.5]  1.366482\n",
       "...              ...             ...       ...\n",
       "money9   84   money9  (383.6, 464.0] -0.511719\n",
       "         86   money9  (198.8, 279.7] -0.511719\n",
       "         88   money9  (916.3, 997.0] -0.511719\n",
       "         82   money9   (2.999, 92.0] -0.503761\n",
       "         87   money9  (704.5, 797.0] -0.503761\n",
       "\n",
       "[90 rows x 3 columns]"
      ]
     },
     "execution_count": 122,
     "metadata": {},
     "output_type": "execute_result"
    }
   ],
   "source": [
    "# 对于每个字段按照降序排序，查看规则\n",
    "sort_scorecard  = score_card.groupby('Variable').apply(lambda x: x.sort_values('Score', ascending=True))\n",
    "sort_scorecard#.head(1)\n",
    "# data.sort_values(by=['Variable','Value'], ascending=True)"
   ]
  },
  {
   "cell_type": "markdown",
   "metadata": {},
   "source": [
    "2）把变量放到对应的分箱中，方便后面计算"
   ]
  },
  {
   "cell_type": "code",
   "execution_count": 123,
   "metadata": {},
   "outputs": [],
   "source": [
    "def str_to_int(s):\n",
    "    if s=='-inf':\n",
    "        return -999999\n",
    "    if s=='inf':\n",
    "        return 999999\n",
    "    return float(s)\n",
    "\n",
    "# 将value影响到bin\n",
    "def map_value_to_bin(feature_value, feature_to_bin):\n",
    "    for index,row in feature_to_bin.iterrows(): #遍历行数据的时候，就可以使用 iterrows()方法实现了\n",
    "        '''(40.0, 50.0] => ['40.0', ' 50.0']'''\n",
    "        bins = str(row['Binning'])  # (40.0, 50.0]\n",
    "#         print('bins',bins)\n",
    "        left_open = bins[0] == '('    # 输出布尔值：left_open True\n",
    "#         print('left_open',left_open)\n",
    "        right_open = bins[-1] == ')'    # 输出布尔值：right_open False\n",
    "#         print('right open',right_open)\n",
    "        binnings = bins[1: -1].split(',')  # ['40.0', ' 50.0']  字符串 ( 40.0 , 50.0 ] 中取 40.0 , 50.0 3个\n",
    "        # [a:-1]是从列表的第二个数到倒数第二个数（包含） [1,2,3,4,5,6,7,8,9] 里面的2-8\n",
    "#         print('binnings',binnings)\n",
    "        \n",
    "        in_range = True\n",
    "        temp = str_to_int(binnings[0]) # 把 -np.inf字符串转为数字 -999999\n",
    "        temp2 = str_to_int(binnings[1])\n",
    "        # 检查左括号\n",
    "        if left_open:     # left_open的值是 True  = (\n",
    "            if feature_value <= temp: # -999999.9 <= -999999\n",
    "                in_range = False\n",
    "        else:             # left_open的值是 False = [\n",
    "            if feature_value < temp:\n",
    "                in_range = False\n",
    "        # 检查有括号\n",
    "        if right_open:    # right_open的值是 True  = (\n",
    "            if feature_value >= temp2: # feature_value >= 999999\n",
    "                in_range = False\n",
    "        else:             # right_open的值是 True  = [\n",
    "            if feature_value > temp2:\n",
    "                in_range = False\n",
    "        if in_range:\n",
    "            return row['Binning']  # row['Binning'] = (70.0, inf]"
   ]
  },
  {
   "cell_type": "markdown",
   "metadata": {},
   "source": [
    "3）将分箱中的变量计算得到一个分数"
   ]
  },
  {
   "cell_type": "code",
   "execution_count": 124,
   "metadata": {},
   "outputs": [],
   "source": [
    "def map_to_score(data, score_card):\n",
    "    scored_columns = list(score_card['Variable'].unique())\n",
    "    score = 0\n",
    "    for col in scored_columns:\n",
    "        feature_to_bin = score_card[score_card['Variable'] == col]\n",
    "        feature_value = data[col]\n",
    "        selected_bin = map_value_to_bin(feature_value, feature_to_bin)\n",
    "        temp_score = feature_to_bin[feature_to_bin['Binning'] == selected_bin]\n",
    "        score += temp_score['Score'].values[0]\n",
    "    return score"
   ]
  },
  {
   "cell_type": "markdown",
   "metadata": {},
   "source": [
    "4）计算得分，输入：一张数据表，得到一个分数"
   ]
  },
  {
   "cell_type": "code",
   "execution_count": 125,
   "metadata": {},
   "outputs": [],
   "source": [
    "def cal_score(data, score_card, A):\n",
    "    data['score'] = data.apply(map_to_score, args=(score_card,), axis=1)\n",
    "    \n",
    "    data['score'] = data['score'].astype('int')\n",
    "    data['score'] = data['score'] + A\n",
    "    return data"
   ]
  },
  {
   "cell_type": "code",
   "execution_count": 126,
   "metadata": {},
   "outputs": [
    {
     "data": {
      "text/html": [
       "<div>\n",
       "<style scoped>\n",
       "    .dataframe tbody tr th:only-of-type {\n",
       "        vertical-align: middle;\n",
       "    }\n",
       "\n",
       "    .dataframe tbody tr th {\n",
       "        vertical-align: top;\n",
       "    }\n",
       "\n",
       "    .dataframe thead th {\n",
       "        text-align: right;\n",
       "    }\n",
       "</style>\n",
       "<table border=\"1\" class=\"dataframe\">\n",
       "  <thead>\n",
       "    <tr style=\"text-align: right;\">\n",
       "      <th></th>\n",
       "      <th>money1</th>\n",
       "      <th>money2</th>\n",
       "      <th>money3</th>\n",
       "      <th>money4</th>\n",
       "      <th>money5</th>\n",
       "      <th>money6</th>\n",
       "      <th>money7</th>\n",
       "      <th>money8</th>\n",
       "      <th>money9</th>\n",
       "      <th>bin_money1</th>\n",
       "      <th>bin_money2</th>\n",
       "      <th>bin_money3</th>\n",
       "      <th>bin_money4</th>\n",
       "      <th>bin_money5</th>\n",
       "      <th>bin_money6</th>\n",
       "      <th>bin_money7</th>\n",
       "      <th>bin_money8</th>\n",
       "      <th>bin_money9</th>\n",
       "      <th>money_target</th>\n",
       "    </tr>\n",
       "  </thead>\n",
       "  <tbody>\n",
       "    <tr>\n",
       "      <th>0</th>\n",
       "      <td>21</td>\n",
       "      <td>86</td>\n",
       "      <td>466</td>\n",
       "      <td>287</td>\n",
       "      <td>536</td>\n",
       "      <td>206</td>\n",
       "      <td>191</td>\n",
       "      <td>747</td>\n",
       "      <td>524</td>\n",
       "      <td>(0.999, 62.8]</td>\n",
       "      <td>(68.7, 186.0]</td>\n",
       "      <td>(429.6, 530.5]</td>\n",
       "      <td>(226.8, 352.1]</td>\n",
       "      <td>(481.5, 577.8]</td>\n",
       "      <td>(182.4, 261.0]</td>\n",
       "      <td>(120.8, 191.8]</td>\n",
       "      <td>(711.3, 812.2]</td>\n",
       "      <td>(464.0, 575.6]</td>\n",
       "      <td>0</td>\n",
       "    </tr>\n",
       "  </tbody>\n",
       "</table>\n",
       "</div>"
      ],
      "text/plain": [
       "   money1  money2  money3  money4  money5  money6  money7  money8  money9  \\\n",
       "0      21      86     466     287     536     206     191     747     524   \n",
       "\n",
       "      bin_money1     bin_money2      bin_money3      bin_money4  \\\n",
       "0  (0.999, 62.8]  (68.7, 186.0]  (429.6, 530.5]  (226.8, 352.1]   \n",
       "\n",
       "       bin_money5      bin_money6      bin_money7      bin_money8  \\\n",
       "0  (481.5, 577.8]  (182.4, 261.0]  (120.8, 191.8]  (711.3, 812.2]   \n",
       "\n",
       "       bin_money9  money_target  \n",
       "0  (464.0, 575.6]             0  "
      ]
     },
     "execution_count": 126,
     "metadata": {},
     "output_type": "execute_result"
    }
   ],
   "source": [
    "x_data.head(1)"
   ]
  },
  {
   "cell_type": "markdown",
   "metadata": {},
   "source": [
    "得到risk对应的woe评分"
   ]
  },
  {
   "cell_type": "code",
   "execution_count": 127,
   "metadata": {},
   "outputs": [],
   "source": [
    "# 随机选一些人出来\n",
    "# good_sample = x_data[x_data['risk_target'] == 0].sample(5)\n",
    "# good_sample = good_sample[feature_cols]\n",
    "# cal_score(good_sample, score_card, A)\n",
    "data_score = cal_score(x_data, score_card, A)"
   ]
  },
  {
   "cell_type": "code",
   "execution_count": 128,
   "metadata": {},
   "outputs": [],
   "source": [
    "data_score['material_group_name'] = data_material_group_name\n",
    "data_score.to_csv('money_score.csv',index=True)"
   ]
  },
  {
   "cell_type": "code",
   "execution_count": 129,
   "metadata": {},
   "outputs": [],
   "source": [
    "import matplotlib.pyplot as plt\n",
    "import seaborn as sns\n",
    "import pandas as pd"
   ]
  },
  {
   "cell_type": "code",
   "execution_count": 130,
   "metadata": {},
   "outputs": [],
   "source": [
    "# BCG矩阵代码\n",
    "cols = ['material_group_name','risk_woe','money_woe']\n",
    "df = pd.read_excel('./money_risk_woe.xlsx')"
   ]
  },
  {
   "cell_type": "code",
   "execution_count": 28,
   "metadata": {},
   "outputs": [
    {
     "data": {
      "image/png": "[encoded data removed]",
      "text/plain": [
       "<Figure size 2880x2304 with 1 Axes>"
      ]
     },
     "metadata": {
      "needs_background": "light"
     },
     "output_type": "display_data"
    }
   ],
   "source": [
    "plt.figure(figsize=(40, 32))\n",
    "x = df['money_woe']\n",
    "y = df['risk_woe']\n",
    "label = df['material_group_name']\n",
    "\n",
    "plt.rcParams['font.sans-serif'] = ['SimHei']\n",
    "plt.scatter(x=df['money_woe'], y=df['risk_woe'])\n",
    "plt.xlabel('战略重要性（利润潜力）', fontsize=30)\n",
    "plt.ylabel('供应风险', fontsize=30)\n",
    "plt.title('波士顿矩阵: XX公司采购定位模型', fontsize=40)\n",
    "\n",
    "# 对散点图中的每一个点进行文字标注\n",
    " ## 固定代码，无需深究，拿来即用\n",
    "for a, b, l in zip(df['money_woe'], df['risk_woe'], label):\n",
    "    plt.text(a, b+0.1, '%s.' % l, ha='center', va='bottom', fontsize=16)\n",
    "    #  0.1 向上轻微偏移\n",
    "\n",
    "# 添加特定分割线\n",
    " ## vlines: vertical 垂直于 x 轴的线，在变量'经济总量'的均值处开始画，\n",
    "   ## y 轴的范围[1.5, 3]\n",
    "plt.vlines(x=df['money_woe'].mean(), ymin=200, ymax=650,\n",
    "          colors='r', linewidth=2)\n",
    "plt.hlines(y=df['risk_woe'].mean(), xmin=100, xmax=650,\n",
    "          colors='r', linewidth=2)\n",
    "# 背景网格\n",
    "# plt.grid(True)\n",
    "\n",
    "# 定制需求：隐去四周的边框线条\n",
    "sns.despine(trim=True, left=True, bottom=True)"
   ]
  },
  {
   "cell_type": "code",
   "execution_count": null,
   "metadata": {},
   "outputs": [],
   "source": []
  }
 ],
 "metadata": {
  "kernelspec": {
   "display_name": "Python 3",
   "language": "python",
   "name": "python3"
  },
  "language_info": {
   "codemirror_mode": {
    "name": "ipython",
    "version": 3
   },
   "file_extension": ".py",
   "mimetype": "text/x-python",
   "name": "python",
   "nbconvert_exporter": "python",
   "pygments_lexer": "ipython3",
   "version": "3.7.6"
  }
 },
 "nbformat": 4,
 "nbformat_minor": 4
}
